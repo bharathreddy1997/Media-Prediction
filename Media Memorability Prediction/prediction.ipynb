{
  "nbformat": 4,
  "nbformat_minor": 0,
  "metadata": {
    "kernelspec": {
      "display_name": "Python 3",
      "language": "python",
      "name": "python3"
    },
    "language_info": {
      "codemirror_mode": {
        "name": "ipython",
        "version": 3
      },
      "file_extension": ".py",
      "mimetype": "text/x-python",
      "name": "python",
      "nbconvert_exporter": "python",
      "pygments_lexer": "ipython3",
      "version": "3.7.4"
    },
    "colab": {
      "name": "prediction.ipynb",
      "provenance": [],
      "collapsed_sections": [],
      "toc_visible": true
    }
  },
  "cells": [
    {
      "cell_type": "markdown",
      "metadata": {
        "id": "hRJRqh82XFsn",
        "colab_type": "text"
      },
      "source": [
        "# Media Memorability prediction using HMP,C3D and Captions."
      ]
    },
    {
      "cell_type": "code",
      "metadata": {
        "id": "lZYaS-g_VU97",
        "colab_type": "code",
        "outputId": "8fdc9fb2-47ed-47f2-b338-6adba0698303",
        "colab": {}
      },
      "source": [
        "!pip install PyPrind\n"
      ],
      "execution_count": 0,
      "outputs": [
        {
          "output_type": "stream",
          "text": [
            "Requirement already satisfied: PyPrind in c:\\users\\reddy\\anaconda3\\lib\\site-packages (2.11.2)\n"
          ],
          "name": "stdout"
        }
      ]
    },
    {
      "cell_type": "markdown",
      "metadata": {
        "id": "f96UkrjcVU-A",
        "colab_type": "text"
      },
      "source": [
        "importing all the libraires needed"
      ]
    },
    {
      "cell_type": "markdown",
      "metadata": {
        "id": "XhuJg0IYWuS1",
        "colab_type": "text"
      },
      "source": [
        "# Imporing the libraires"
      ]
    },
    {
      "cell_type": "code",
      "metadata": {
        "id": "nvCyjMK8VU-A",
        "colab_type": "code",
        "colab": {}
      },
      "source": [
        "import pandas as pd\n",
        "from keras import Sequential\n",
        "from keras import layers\n",
        "from keras import regularizers\n",
        "import numpy as np\n",
        "from keras.layers import Dense,Dropout\n",
        "from keras.models import Sequential\n",
        "from string import punctuation\n",
        "import pyprind\n",
        "from collections import Counter\n",
        "from keras.preprocessing.text import Tokenizer\n",
        "from sklearn.model_selection import train_test_split\n",
        "import matplotlib.pyplot as plt\n",
        "from keras import preprocessing\n",
        "import os\n",
        "import re\n",
        "import string\n",
        "\n",
        "# for reproducability\n",
        "from numpy.random import seed\n",
        "seed(48)"
      ],
      "execution_count": 0,
      "outputs": []
    },
    {
      "cell_type": "markdown",
      "metadata": {
        "id": "_4p_Bd1uY8bj",
        "colab_type": "text"
      },
      "source": [
        "# Functions for Spearman's constant,HMP,C3D,Caps"
      ]
    },
    {
      "cell_type": "code",
      "metadata": {
        "id": "rfks-Nl7VU-D",
        "colab_type": "code",
        "colab": {}
      },
      "source": [
        "def Get_score(Y_pred,Y_true):\n",
        "    '''Calculate the Spearmann\"s correlation coefficient'''\n",
        "    Y_pred = np.squeeze(Y_pred)\n",
        "    Y_true = np.squeeze(Y_true)\n",
        "    if Y_pred.shape != Y_true.shape:\n",
        "        print('Input shapes don\\'t match!')\n",
        "    else:\n",
        "        if len(Y_pred.shape) == 1:\n",
        "            Res = pd.DataFrame({'Y_true':Y_true,'Y_pred':Y_pred})\n",
        "            score_mat = Res[['Y_true','Y_pred']].corr(method='spearman',min_periods=1)\n",
        "            print('The Spearman\\'s correlation coefficient is: %.3f' % score_mat.iloc[1][0])\n",
        "        else:\n",
        "            for ii in range(Y_pred.shape[1]):\n",
        "                Get_score(Y_pred[:,ii],Y_true[:,ii])\n",
        "                \n",
        "def Get_score_value(Y_pred,Y_true):\n",
        "    '''Calculate the Spearmann\"s correlation coefficient'''\n",
        "    Y_pred = np.squeeze(Y_pred)\n",
        "    Y_true = np.squeeze(Y_true)\n",
        "    if Y_pred.shape != Y_true.shape:\n",
        "        print('Input shapes don\\'t match!')\n",
        "    else:\n",
        "        if len(Y_pred.shape) == 1:\n",
        "            Res = pd.DataFrame({'Y_true':Y_true,'Y_pred':Y_pred})\n",
        "            score_mat = Res[['Y_true','Y_pred']].corr(method='spearman',min_periods=1)\n",
        "            return score_mat.iloc[1][0]\n",
        "        else:\n",
        "            return Get_score_value(Y_pred[:,0],Y_true[:,0])\n",
        "                \n",
        "                \n",
        "def read_HMP(fname):\n",
        "    \"\"\"Scan HMP(Histogram of Motion Patterns) features from file\"\"\"\n",
        "    with open(fname) as f:\n",
        "        for line in f:\n",
        "            pairs=line.split()\n",
        "            HMP_temp = { int(p.split(':')[0]) : float(p.split(':')[1]) for p in pairs}\n",
        "    # there are 6075 bins, fill zeros\n",
        "    HMP = np.zeros(6075)\n",
        "    for idx in HMP_temp.keys():\n",
        "        HMP[idx-1] = HMP_temp[idx]            \n",
        "    return HMP\n",
        "\n",
        "def read_C3D(fname):\n",
        "    \"\"\"Scan vectors from file\"\"\"\n",
        "    with open(fname) as f:\n",
        "        for line in f:\n",
        "            C3D =[float(item) for item in line.split()] # convert to float type, using default separator\n",
        "    return C3D\n",
        "\n",
        "\n",
        "def read_caps(fname):\n",
        "    \"\"\"Load the captions into a dataframe\"\"\"\n",
        "    vn = []\n",
        "    cap = []\n",
        "    df = pd.DataFrame();\n",
        "    with open(fname) as f:\n",
        "        for line in f:\n",
        "            pairs = line.split()\n",
        "            vn.append(pairs[0])\n",
        "            cap.append(pairs[1])\n",
        "        df['video']=vn\n",
        "        df['caption']=cap\n",
        "    return df\n",
        "\n"
      ],
      "execution_count": 0,
      "outputs": []
    },
    {
      "cell_type": "markdown",
      "metadata": {
        "id": "1WSaJhWGVU-G",
        "colab_type": "text"
      },
      "source": [
        "# Loading Ground truth "
      ]
    },
    {
      "cell_type": "code",
      "metadata": {
        "id": "MOetw_55VU-G",
        "colab_type": "code",
        "outputId": "b4d029b6-47e8-4393-be2b-2d0ac678c882",
        "colab": {}
      },
      "source": [
        "# load the ground truth values\n",
        "labels=pd.read_csv('C:/Users/Reddy/Desktop/ml ass/ground-truth.csv')\n",
        "labels.head()"
      ],
      "execution_count": 0,
      "outputs": [
        {
          "output_type": "execute_result",
          "data": {
            "text/html": [
              "<div>\n",
              "<style scoped>\n",
              "    .dataframe tbody tr th:only-of-type {\n",
              "        vertical-align: middle;\n",
              "    }\n",
              "\n",
              "    .dataframe tbody tr th {\n",
              "        vertical-align: top;\n",
              "    }\n",
              "\n",
              "    .dataframe thead th {\n",
              "        text-align: right;\n",
              "    }\n",
              "</style>\n",
              "<table border=\"1\" class=\"dataframe\">\n",
              "  <thead>\n",
              "    <tr style=\"text-align: right;\">\n",
              "      <th></th>\n",
              "      <th>video</th>\n",
              "      <th>short-term_memorability</th>\n",
              "      <th>nb_short-term_annotations</th>\n",
              "      <th>long-term_memorability</th>\n",
              "      <th>nb_long-term_annotations</th>\n",
              "    </tr>\n",
              "  </thead>\n",
              "  <tbody>\n",
              "    <tr>\n",
              "      <td>0</td>\n",
              "      <td>video3.webm</td>\n",
              "      <td>0.924</td>\n",
              "      <td>34</td>\n",
              "      <td>0.846</td>\n",
              "      <td>13</td>\n",
              "    </tr>\n",
              "    <tr>\n",
              "      <td>1</td>\n",
              "      <td>video4.webm</td>\n",
              "      <td>0.923</td>\n",
              "      <td>33</td>\n",
              "      <td>0.667</td>\n",
              "      <td>12</td>\n",
              "    </tr>\n",
              "    <tr>\n",
              "      <td>2</td>\n",
              "      <td>video6.webm</td>\n",
              "      <td>0.863</td>\n",
              "      <td>33</td>\n",
              "      <td>0.700</td>\n",
              "      <td>10</td>\n",
              "    </tr>\n",
              "    <tr>\n",
              "      <td>3</td>\n",
              "      <td>video8.webm</td>\n",
              "      <td>0.922</td>\n",
              "      <td>33</td>\n",
              "      <td>0.818</td>\n",
              "      <td>11</td>\n",
              "    </tr>\n",
              "    <tr>\n",
              "      <td>4</td>\n",
              "      <td>video10.webm</td>\n",
              "      <td>0.950</td>\n",
              "      <td>34</td>\n",
              "      <td>0.900</td>\n",
              "      <td>10</td>\n",
              "    </tr>\n",
              "  </tbody>\n",
              "</table>\n",
              "</div>"
            ],
            "text/plain": [
              "          video  short-term_memorability  nb_short-term_annotations  \\\n",
              "0   video3.webm                    0.924                         34   \n",
              "1   video4.webm                    0.923                         33   \n",
              "2   video6.webm                    0.863                         33   \n",
              "3   video8.webm                    0.922                         33   \n",
              "4  video10.webm                    0.950                         34   \n",
              "\n",
              "   long-term_memorability  nb_long-term_annotations  \n",
              "0                   0.846                        13  \n",
              "1                   0.667                        12  \n",
              "2                   0.700                        10  \n",
              "3                   0.818                        11  \n",
              "4                   0.900                        10  "
            ]
          },
          "metadata": {
            "tags": []
          },
          "execution_count": 4
        }
      ]
    },
    {
      "cell_type": "code",
      "metadata": {
        "id": "S0pq0ygrVU-J",
        "colab_type": "code",
        "outputId": "c7506924-6154-4628-ada1-200c7081f76e",
        "colab": {}
      },
      "source": [
        "labels.dtypes"
      ],
      "execution_count": 0,
      "outputs": [
        {
          "output_type": "execute_result",
          "data": {
            "text/plain": [
              "video                         object\n",
              "short-term_memorability      float64\n",
              "nb_short-term_annotations      int64\n",
              "long-term_memorability       float64\n",
              "nb_long-term_annotations       int64\n",
              "dtype: object"
            ]
          },
          "metadata": {
            "tags": []
          },
          "execution_count": 360
        }
      ]
    },
    {
      "cell_type": "code",
      "metadata": {
        "id": "VPWjxObpVU-L",
        "colab_type": "code",
        "outputId": "e765c98e-cebc-4760-c765-a96ee39265cb",
        "colab": {}
      },
      "source": [
        "vid = labels.video.values\n",
        "len(vid)"
      ],
      "execution_count": 0,
      "outputs": [
        {
          "output_type": "execute_result",
          "data": {
            "text/plain": [
              "6000"
            ]
          },
          "metadata": {
            "tags": []
          },
          "execution_count": 5
        }
      ]
    },
    {
      "cell_type": "markdown",
      "metadata": {
        "id": "suy-EJo9VU-O",
        "colab_type": "text"
      },
      "source": [
        "# HMP feature Training"
      ]
    },
    {
      "cell_type": "code",
      "metadata": {
        "scrolled": true,
        "id": "l-9fIqqZVU-O",
        "colab_type": "code",
        "outputId": "107faf29-0857-472f-85dd-2e94588e8f85",
        "colab": {}
      },
      "source": [
        "\n",
        "os.chdir('C:/Users/Reddy/Desktop/ml ass/devset/')\n",
        "features_hmp = pd.DataFrame({'video': vid, 'HMP': [read_HMP('./HMP'+'/'+os.path.splitext(item)[0]+'.txt') for item in vid]})\n",
        "features_hmp.head()"
      ],
      "execution_count": 0,
      "outputs": [
        {
          "output_type": "execute_result",
          "data": {
            "text/html": [
              "<div>\n",
              "<style scoped>\n",
              "    .dataframe tbody tr th:only-of-type {\n",
              "        vertical-align: middle;\n",
              "    }\n",
              "\n",
              "    .dataframe tbody tr th {\n",
              "        vertical-align: top;\n",
              "    }\n",
              "\n",
              "    .dataframe thead th {\n",
              "        text-align: right;\n",
              "    }\n",
              "</style>\n",
              "<table border=\"1\" class=\"dataframe\">\n",
              "  <thead>\n",
              "    <tr style=\"text-align: right;\">\n",
              "      <th></th>\n",
              "      <th>video</th>\n",
              "      <th>HMP</th>\n",
              "    </tr>\n",
              "  </thead>\n",
              "  <tbody>\n",
              "    <tr>\n",
              "      <td>0</td>\n",
              "      <td>video3.webm</td>\n",
              "      <td>[0.125563, 0.024036, 0.000314, 0.0, 0.015864, ...</td>\n",
              "    </tr>\n",
              "    <tr>\n",
              "      <td>1</td>\n",
              "      <td>video4.webm</td>\n",
              "      <td>[0.007526, 0.001421, 6.8e-05, 0.0, 0.001184, 0...</td>\n",
              "    </tr>\n",
              "    <tr>\n",
              "      <td>2</td>\n",
              "      <td>video6.webm</td>\n",
              "      <td>[0.109584, 0.018978, 0.000289, 0.0, 0.008774, ...</td>\n",
              "    </tr>\n",
              "    <tr>\n",
              "      <td>3</td>\n",
              "      <td>video8.webm</td>\n",
              "      <td>[0.120431, 0.013561, 0.000277, 0.0, 0.018974, ...</td>\n",
              "    </tr>\n",
              "    <tr>\n",
              "      <td>4</td>\n",
              "      <td>video10.webm</td>\n",
              "      <td>[0.005026, 0.001356, 5.5e-05, 0.0, 0.000665, 2...</td>\n",
              "    </tr>\n",
              "  </tbody>\n",
              "</table>\n",
              "</div>"
            ],
            "text/plain": [
              "          video                                                HMP\n",
              "0   video3.webm  [0.125563, 0.024036, 0.000314, 0.0, 0.015864, ...\n",
              "1   video4.webm  [0.007526, 0.001421, 6.8e-05, 0.0, 0.001184, 0...\n",
              "2   video6.webm  [0.109584, 0.018978, 0.000289, 0.0, 0.008774, ...\n",
              "3   video8.webm  [0.120431, 0.013561, 0.000277, 0.0, 0.018974, ...\n",
              "4  video10.webm  [0.005026, 0.001356, 5.5e-05, 0.0, 0.000665, 2..."
            ]
          },
          "metadata": {
            "tags": []
          },
          "execution_count": 7
        }
      ]
    },
    {
      "cell_type": "code",
      "metadata": {
        "id": "nL7xmbeGVU-R",
        "colab_type": "code",
        "colab": {}
      },
      "source": [
        "# os.chdir('C:/Users/Reddy/Desktop/ml ass/testset/')\n",
        "tevid = os.listdir('C:/Users/Reddy/Desktop/ml ass/testset/HMP_test')\n",
        "features_hmp_test = pd.DataFrame({'video': tevid,'HMP': [read_HMP('./HMP_test'+'/'+item) for item in tevid],\n",
        "                       })"
      ],
      "execution_count": 0,
      "outputs": []
    },
    {
      "cell_type": "code",
      "metadata": {
        "id": "PN4f9qk0VU-V",
        "colab_type": "code",
        "colab": {}
      },
      "source": [
        "from sklearn import preprocessing\n"
      ],
      "execution_count": 0,
      "outputs": []
    },
    {
      "cell_type": "code",
      "metadata": {
        "id": "lAjDRg9sVU-T",
        "colab_type": "code",
        "outputId": "32d6fc72-696a-4cae-d40d-10ffb84680ea",
        "colab": {}
      },
      "source": [
        "features_hmp_test.head()"
      ],
      "execution_count": 0,
      "outputs": [
        {
          "output_type": "execute_result",
          "data": {
            "text/html": [
              "<div>\n",
              "<style scoped>\n",
              "    .dataframe tbody tr th:only-of-type {\n",
              "        vertical-align: middle;\n",
              "    }\n",
              "\n",
              "    .dataframe tbody tr th {\n",
              "        vertical-align: top;\n",
              "    }\n",
              "\n",
              "    .dataframe thead th {\n",
              "        text-align: right;\n",
              "    }\n",
              "</style>\n",
              "<table border=\"1\" class=\"dataframe\">\n",
              "  <thead>\n",
              "    <tr style=\"text-align: right;\">\n",
              "      <th></th>\n",
              "      <th>video</th>\n",
              "      <th>HMP</th>\n",
              "    </tr>\n",
              "  </thead>\n",
              "  <tbody>\n",
              "    <tr>\n",
              "      <td>0</td>\n",
              "      <td>video10000.txt</td>\n",
              "      <td>[0.127454, 0.020965, 0.000221, 0.0, 0.009964, ...</td>\n",
              "    </tr>\n",
              "    <tr>\n",
              "      <td>1</td>\n",
              "      <td>video10001.txt</td>\n",
              "      <td>[0.015911, 0.003141, 0.000124, 0.0, 0.001083, ...</td>\n",
              "    </tr>\n",
              "    <tr>\n",
              "      <td>2</td>\n",
              "      <td>video10002.txt</td>\n",
              "      <td>[0.041081, 0.013914, 0.000198, 0.0, 0.002648, ...</td>\n",
              "    </tr>\n",
              "    <tr>\n",
              "      <td>3</td>\n",
              "      <td>video10003.txt</td>\n",
              "      <td>[0.047053, 0.009497, 0.000137, 0.0, 0.00867, 9...</td>\n",
              "    </tr>\n",
              "    <tr>\n",
              "      <td>4</td>\n",
              "      <td>video10004.txt</td>\n",
              "      <td>[0.003161, 0.00033, 0.0, 0.0, 0.000189, 0.0, 0...</td>\n",
              "    </tr>\n",
              "  </tbody>\n",
              "</table>\n",
              "</div>"
            ],
            "text/plain": [
              "            video                                                HMP\n",
              "0  video10000.txt  [0.127454, 0.020965, 0.000221, 0.0, 0.009964, ...\n",
              "1  video10001.txt  [0.015911, 0.003141, 0.000124, 0.0, 0.001083, ...\n",
              "2  video10002.txt  [0.041081, 0.013914, 0.000198, 0.0, 0.002648, ...\n",
              "3  video10003.txt  [0.047053, 0.009497, 0.000137, 0.0, 0.00867, 9...\n",
              "4  video10004.txt  [0.003161, 0.00033, 0.0, 0.0, 0.000189, 0.0, 0..."
            ]
          },
          "metadata": {
            "tags": []
          },
          "execution_count": 12
        }
      ]
    },
    {
      "cell_type": "code",
      "metadata": {
        "id": "daAwjPB9VU-Y",
        "colab_type": "code",
        "colab": {}
      },
      "source": [
        "X_test = np.stack(features_hmp_test['HMP'].values)\n"
      ],
      "execution_count": 0,
      "outputs": []
    },
    {
      "cell_type": "markdown",
      "metadata": {
        "id": "P_PYeZNsVU-b",
        "colab_type": "text"
      },
      "source": [
        "Stacking of training hmp values to convert coloumns to index and normalizing them normalize function and \n",
        "\n",
        "splitting the train dataset into train and validation set by train_test_split from sklearn package."
      ]
    },
    {
      "cell_type": "code",
      "metadata": {
        "id": "BcZ4-OsOVU-b",
        "colab_type": "code",
        "colab": {}
      },
      "source": [
        "X = np.stack(features_hmp['HMP'].values)\n",
        "Xnor = preprocessing.normalize(X)\n",
        "Y = labels[['short-term_memorability','long-term_memorability']].values\n",
        "\n",
        "#Y = Y[:,1]\n",
        "X_train, X_val, Y_train, Y_val = train_test_split(Xnor,Y, test_size=0.2, random_state=42)"
      ],
      "execution_count": 0,
      "outputs": []
    },
    {
      "cell_type": "markdown",
      "metadata": {
        "id": "b00P6Ao0VU-d",
        "colab_type": "text"
      },
      "source": [
        "visulaizing the train and validation sets."
      ]
    },
    {
      "cell_type": "code",
      "metadata": {
        "id": "PTx6HrDcVU-e",
        "colab_type": "code",
        "outputId": "8d65eb02-2101-4f10-99e3-e44d19316e74",
        "colab": {}
      },
      "source": [
        "\n",
        "nrows,ncols = 2,3\n",
        "N = nrows*ncols\n",
        "ind = np.random.choice(6000,size=N)\n",
        "for ii in range(N):\n",
        "    plt.subplot(nrows,ncols,ii+1)\n",
        "    plt.plot(X[ind[ii],:])\n",
        "plt.show()"
      ],
      "execution_count": 0,
      "outputs": [
        {
          "output_type": "display_data",
          "data": {
            "image/png": "[encoded data removed]",
            "text/plain": [
              "<Figure size 432x288 with 6 Axes>"
            ]
          },
          "metadata": {
            "tags": [],
            "needs_background": "light"
          }
        }
      ]
    },
    {
      "cell_type": "markdown",
      "metadata": {
        "id": "e_3IDpMhU1rD",
        "colab_type": "text"
      },
      "source": [
        "## Creating 5 layer neural network "
      ]
    },
    {
      "cell_type": "code",
      "metadata": {
        "id": "U5TTC_0xVU-g",
        "colab_type": "code",
        "outputId": "abde9e9a-451f-491e-d90c-42b18b9beb83",
        "colab": {}
      },
      "source": [
        "model_hmp = Sequential()\n",
        "model_hmp.add(Dense(400,activation='relu', kernel_regularizer=None,input_shape=(X_train.shape[1],)))\n",
        "model_hmp.add(Dropout(0.50))\n",
        "model_hmp.add(Dense(400,activation='relu', kernel_regularizer=None))\n",
        "model_hmp.add(Dropout(0.50))\n",
        "model_hmp.add(Dense(400,activation='relu', kernel_regularizer=None))\n",
        "model_hmp.add(Dropout(0.50))\n",
        "model_hmp.add(Dense(50,activation='relu',kernel_regularizer=None))\n",
        "model_hmp.add(Dropout(0.25))\n",
        "model_hmp.add(Dense(2,activation='sigmoid'))\n",
        "model_hmp.summary()\n",
        "model_hmp.compile(optimizer='rmsprop',loss=['mae'],metrics=['acc'])\n",
        "history=model_hmp.fit(x=X_train,y=Y_train, batch_size=60, epochs=40, validation_data=(X_val,Y_val), shuffle=True, verbose=True)"
      ],
      "execution_count": 0,
      "outputs": [
        {
          "output_type": "stream",
          "text": [
            "Model: \"sequential_23\"\n",
            "_________________________________________________________________\n",
            "Layer (type)                 Output Shape              Param #   \n",
            "=================================================================\n",
            "dense_107 (Dense)            (None, 400)               2430400   \n",
            "_________________________________________________________________\n",
            "dropout_85 (Dropout)         (None, 400)               0         \n",
            "_________________________________________________________________\n",
            "dense_108 (Dense)            (None, 400)               160400    \n",
            "_________________________________________________________________\n",
            "dropout_86 (Dropout)         (None, 400)               0         \n",
            "_________________________________________________________________\n",
            "dense_109 (Dense)            (None, 400)               160400    \n",
            "_________________________________________________________________\n",
            "dropout_87 (Dropout)         (None, 400)               0         \n",
            "_________________________________________________________________\n",
            "dense_110 (Dense)            (None, 50)                20050     \n",
            "_________________________________________________________________\n",
            "dropout_88 (Dropout)         (None, 50)                0         \n",
            "_________________________________________________________________\n",
            "dense_111 (Dense)            (None, 2)                 102       \n",
            "=================================================================\n",
            "Total params: 2,771,352\n",
            "Trainable params: 2,771,352\n",
            "Non-trainable params: 0\n",
            "_________________________________________________________________\n",
            "Train on 4800 samples, validate on 1200 samples\n",
            "Epoch 1/40\n",
            "4800/4800 [==============================] - 4s 810us/step - loss: 0.1055 - acc: 0.6698 - val_loss: 0.0890 - val_acc: 0.7100\n",
            "Epoch 2/40\n",
            "4800/4800 [==============================] - 4s 794us/step - loss: 0.0978 - acc: 0.6883 - val_loss: 0.0902 - val_acc: 0.7100\n",
            "Epoch 3/40\n",
            "4800/4800 [==============================] - 4s 803us/step - loss: 0.0960 - acc: 0.6942 - val_loss: 0.0974 - val_acc: 0.7100\n",
            "Epoch 4/40\n",
            "4800/4800 [==============================] - 4s 792us/step - loss: 0.0946 - acc: 0.7000 - val_loss: 0.0925 - val_acc: 0.7100\n",
            "Epoch 5/40\n",
            "4800/4800 [==============================] - 4s 826us/step - loss: 0.0934 - acc: 0.7023 - val_loss: 0.0881 - val_acc: 0.7100\n",
            "Epoch 6/40\n",
            "4800/4800 [==============================] - 4s 784us/step - loss: 0.0931 - acc: 0.7033 - val_loss: 0.0959 - val_acc: 0.7100\n",
            "Epoch 7/40\n",
            "4800/4800 [==============================] - 4s 776us/step - loss: 0.0922 - acc: 0.7027 - val_loss: 0.0885 - val_acc: 0.7100\n",
            "Epoch 8/40\n",
            "4800/4800 [==============================] - 4s 781us/step - loss: 0.0921 - acc: 0.7029 - val_loss: 0.0886 - val_acc: 0.7100\n",
            "Epoch 9/40\n",
            "4800/4800 [==============================] - 4s 778us/step - loss: 0.0914 - acc: 0.7035 - val_loss: 0.0891 - val_acc: 0.7100\n",
            "Epoch 10/40\n",
            "4800/4800 [==============================] - 4s 791us/step - loss: 0.0909 - acc: 0.7033 - val_loss: 0.0902 - val_acc: 0.7100\n",
            "Epoch 11/40\n",
            "4800/4800 [==============================] - 4s 778us/step - loss: 0.0910 - acc: 0.7035 - val_loss: 0.0881 - val_acc: 0.7100\n",
            "Epoch 12/40\n",
            "4800/4800 [==============================] - 4s 792us/step - loss: 0.0903 - acc: 0.7035 - val_loss: 0.0882 - val_acc: 0.7100\n",
            "Epoch 13/40\n",
            "4800/4800 [==============================] - 4s 802us/step - loss: 0.0901 - acc: 0.7035 - val_loss: 0.0878 - val_acc: 0.7100\n",
            "Epoch 14/40\n",
            "4800/4800 [==============================] - 4s 821us/step - loss: 0.0901 - acc: 0.7035 - val_loss: 0.0883 - val_acc: 0.7100\n",
            "Epoch 15/40\n",
            "4800/4800 [==============================] - 4s 785us/step - loss: 0.0901 - acc: 0.7035 - val_loss: 0.0882 - val_acc: 0.7100\n",
            "Epoch 16/40\n",
            "4800/4800 [==============================] - 4s 895us/step - loss: 0.0897 - acc: 0.7035 - val_loss: 0.0889 - val_acc: 0.7100\n",
            "Epoch 17/40\n",
            "4800/4800 [==============================] - 4s 908us/step - loss: 0.0894 - acc: 0.7035 - val_loss: 0.0878 - val_acc: 0.7100\n",
            "Epoch 18/40\n",
            "4800/4800 [==============================] - 5s 1ms/step - loss: 0.0900 - acc: 0.7035 - val_loss: 0.0880 - val_acc: 0.7100\n",
            "Epoch 19/40\n",
            "4800/4800 [==============================] - 4s 910us/step - loss: 0.0890 - acc: 0.7035 - val_loss: 0.0883 - val_acc: 0.7100\n",
            "Epoch 20/40\n",
            "4800/4800 [==============================] - 4s 862us/step - loss: 0.0888 - acc: 0.7035 - val_loss: 0.0876 - val_acc: 0.7100\n",
            "Epoch 21/40\n",
            "4800/4800 [==============================] - 4s 817us/step - loss: 0.0889 - acc: 0.7035 - val_loss: 0.0884 - val_acc: 0.7100\n",
            "Epoch 22/40\n",
            "4800/4800 [==============================] - 4s 908us/step - loss: 0.0882 - acc: 0.7035 - val_loss: 0.0876 - val_acc: 0.7100\n",
            "Epoch 23/40\n",
            "4800/4800 [==============================] - 4s 844us/step - loss: 0.0883 - acc: 0.7035 - val_loss: 0.0876 - val_acc: 0.7100\n",
            "Epoch 24/40\n",
            "4800/4800 [==============================] - 4s 840us/step - loss: 0.0883 - acc: 0.7035 - val_loss: 0.0876 - val_acc: 0.7100\n",
            "Epoch 25/40\n",
            "4800/4800 [==============================] - 4s 805us/step - loss: 0.0884 - acc: 0.7035 - val_loss: 0.0876 - val_acc: 0.7100\n",
            "Epoch 26/40\n",
            "4800/4800 [==============================] - 4s 774us/step - loss: 0.0880 - acc: 0.7035 - val_loss: 0.0885 - val_acc: 0.7100s - loss: 0.0880 - acc: 0.702\n",
            "Epoch 27/40\n",
            "4800/4800 [==============================] - 4s 777us/step - loss: 0.0883 - acc: 0.7035 - val_loss: 0.0875 - val_acc: 0.7100\n",
            "Epoch 28/40\n",
            "4800/4800 [==============================] - 4s 787us/step - loss: 0.0879 - acc: 0.7035 - val_loss: 0.0876 - val_acc: 0.7100\n",
            "Epoch 29/40\n",
            "4800/4800 [==============================] - 4s 799us/step - loss: 0.0878 - acc: 0.7035 - val_loss: 0.0872 - val_acc: 0.7100\n",
            "Epoch 30/40\n",
            "4800/4800 [==============================] - 4s 836us/step - loss: 0.0878 - acc: 0.7035 - val_loss: 0.0874 - val_acc: 0.7100\n",
            "Epoch 31/40\n",
            "4800/4800 [==============================] - 4s 827us/step - loss: 0.0875 - acc: 0.7035 - val_loss: 0.0873 - val_acc: 0.7100\n",
            "Epoch 32/40\n",
            "4800/4800 [==============================] - 4s 860us/step - loss: 0.0875 - acc: 0.7035 - val_loss: 0.0873 - val_acc: 0.7100\n",
            "Epoch 33/40\n",
            "4800/4800 [==============================] - 4s 849us/step - loss: 0.0875 - acc: 0.7035 - val_loss: 0.0875 - val_acc: 0.7100\n",
            "Epoch 34/40\n",
            "4800/4800 [==============================] - 4s 827us/step - loss: 0.0875 - acc: 0.7035 - val_loss: 0.0872 - val_acc: 0.7100\n",
            "Epoch 35/40\n",
            "4800/4800 [==============================] - 4s 819us/step - loss: 0.0870 - acc: 0.7035 - val_loss: 0.0880 - val_acc: 0.7100\n",
            "Epoch 36/40\n",
            "4800/4800 [==============================] - 4s 780us/step - loss: 0.0870 - acc: 0.7035 - val_loss: 0.0876 - val_acc: 0.7100\n",
            "Epoch 37/40\n",
            "4800/4800 [==============================] - 4s 790us/step - loss: 0.0873 - acc: 0.7035 - val_loss: 0.0870 - val_acc: 0.7100\n",
            "Epoch 38/40\n",
            "4800/4800 [==============================] - 4s 780us/step - loss: 0.0870 - acc: 0.7035 - val_loss: 0.0871 - val_acc: 0.7100\n",
            "Epoch 39/40\n",
            "4800/4800 [==============================] - 4s 778us/step - loss: 0.0873 - acc: 0.7035 - val_loss: 0.0879 - val_acc: 0.7100\n",
            "Epoch 40/40\n",
            "4800/4800 [==============================] - 4s 844us/step - loss: 0.0869 - acc: 0.7035 - val_loss: 0.0873 - val_acc: 0.7100\n"
          ],
          "name": "stdout"
        }
      ]
    },
    {
      "cell_type": "markdown",
      "metadata": {
        "id": "3uDP61SsVU-i",
        "colab_type": "text"
      },
      "source": [
        "## Visualizing the training and validation loss"
      ]
    },
    {
      "cell_type": "code",
      "metadata": {
        "id": "DRpkHXvtVU-j",
        "colab_type": "code",
        "outputId": "443c2e44-fa0f-42c6-9aee-8201212291c3",
        "colab": {}
      },
      "source": [
        "loss = history.history['loss']\n",
        "val_loss = history.history['val_loss']\n",
        "\n",
        "epochs = range(1,len(loss)+1)\n",
        "\n",
        "plt.figure()\n",
        "plt.plot(epochs,loss,'bo',label='Training loss')\n",
        "plt.plot(epochs,val_loss,'b',label='Validation loss')\n",
        "plt.title('Training and validation loss')\n",
        "plt.xlabel('Epochs')\n",
        "plt.ylabel('Loss')\n",
        "plt.legend()\n",
        "plt.show()"
      ],
      "execution_count": 0,
      "outputs": [
        {
          "output_type": "display_data",
          "data": {
            "image/png": "[encoded data removed]",
            "text/plain": [
              "<Figure size 432x288 with 1 Axes>"
            ]
          },
          "metadata": {
            "tags": [],
            "needs_background": "light"
          }
        }
      ]
    },
    {
      "cell_type": "markdown",
      "metadata": {
        "id": "yWgdow_qVU-l",
        "colab_type": "text"
      },
      "source": [
        "## Predicitng the validation set rank and visulaing the short and long term scores."
      ]
    },
    {
      "cell_type": "code",
      "metadata": {
        "id": "9a--_uSNVU-l",
        "colab_type": "code",
        "outputId": "ea9e4426-6aef-4bed-96bd-469e29e2cd5d",
        "colab": {}
      },
      "source": [
        "Y_pred_train = model_hmp.predict(X_train)\n",
        "Y_pred_val = model_hmp.predict(X_val)\n",
        "\n",
        "if len(Y.shape) == 2:\n",
        "    plt.figure()\n",
        "    plt.scatter(Y_pred_train[:,0],Y_pred_train[:,1],marker='o',c='r',label='train')\n",
        "    plt.scatter(Y_pred_val[:,0],Y_pred_val[:,1],marker='x',c='g',label='val')\n",
        "    plt.scatter(Y[:,0],Y[:,1],marker='x',c='b',label='true',alpha=0.1)\n",
        "    plt.xlim([0,1])\n",
        "    plt.ylim([0,1])\n",
        "    plt.legend()\n",
        "    plt.xlabel('short-term')\n",
        "    plt.ylabel('long-term')\n",
        "    plt.title('Training results')\n",
        "    plt.show()\n",
        "    \n",
        "    # plot testing results\n",
        "    Y_pred = model_hmp.predict(X_test[:,:],batch_size=32)\n",
        "    plt.figure()\n",
        "    plt.scatter(Y_pred[:,0],Y_pred[:,1],marker='o',c='r')\n",
        "    plt.xlabel('short-term')\n",
        "    plt.ylabel('long-term')\n",
        "    plt.show()\n",
        "    \n",
        "else:\n",
        "    plt.figure()\n",
        "    plt.scatter(Y_pred_train,Y_train,marker='o',c='r',label='train')\n",
        "    plt.scatter(Y_pred_val,Y_val,marker='x',c='g',label='val')\n",
        "    #plt.scatter(Y[:,0],Y[:,1],marker='x',c='b',label='true',alpha=0.1)\n",
        "    plt.xlim([0,1])\n",
        "    plt.ylim([0,1])\n",
        "    plt.legend()\n",
        "    plt.xlabel('true')\n",
        "    plt.ylabel('pred')\n",
        "    plt.title('Training results [short-term]')\n",
        "    plt.show()\n"
      ],
      "execution_count": 0,
      "outputs": [
        {
          "output_type": "display_data",
          "data": {
            "image/png": "[encoded data removed]",
            "text/plain": [
              "<Figure size 432x288 with 1 Axes>"
            ]
          },
          "metadata": {
            "tags": [],
            "needs_background": "light"
          }
        },
        {
          "output_type": "display_data",
          "data": {
            "image/png": "[encoded data removed]",
            "text/plain": [
              "<Figure size 432x288 with 1 Axes>"
            ]
          },
          "metadata": {
            "tags": [],
            "needs_background": "light"
          }
        }
      ]
    },
    {
      "cell_type": "code",
      "metadata": {
        "id": "bsFS0sI0VU-o",
        "colab_type": "code",
        "outputId": "2231156f-5e50-4bc0-918d-03ac0f7d5588",
        "colab": {}
      },
      "source": [
        "Get_score(Y_pred_val,Y_val)\n",
        "hmp_prediction = Y_pred_val\n"
      ],
      "execution_count": 0,
      "outputs": [
        {
          "output_type": "stream",
          "text": [
            "The Spearman's correlation coefficient is: 0.325\n",
            "The Spearman's correlation coefficient is: 0.145\n"
          ],
          "name": "stdout"
        }
      ]
    },
    {
      "cell_type": "code",
      "metadata": {
        "id": "tGwdicWbVU-q",
        "colab_type": "code",
        "colab": {}
      },
      "source": [
        "# model_hmp.save('./hmp.h5')"
      ],
      "execution_count": 0,
      "outputs": []
    },
    {
      "cell_type": "markdown",
      "metadata": {
        "id": "mQV1BsvLVU-s",
        "colab_type": "text"
      },
      "source": [
        "# Caption feature training "
      ]
    },
    {
      "cell_type": "code",
      "metadata": {
        "id": "857rPpZwVU-s",
        "colab_type": "code",
        "outputId": "7f0b608b-2232-4a55-e4eb-ecf6f2cca7e0",
        "colab": {}
      },
      "source": [
        "cap_path = 'C:/Users/Reddy/Desktop/ml ass/devset/dev-set_video-captions.txt'\n",
        "df_captions=read_caps(cap_path)\n",
        "df_captions.head()"
      ],
      "execution_count": 0,
      "outputs": [
        {
          "output_type": "execute_result",
          "data": {
            "text/html": [
              "<div>\n",
              "<style scoped>\n",
              "    .dataframe tbody tr th:only-of-type {\n",
              "        vertical-align: middle;\n",
              "    }\n",
              "\n",
              "    .dataframe tbody tr th {\n",
              "        vertical-align: top;\n",
              "    }\n",
              "\n",
              "    .dataframe thead th {\n",
              "        text-align: right;\n",
              "    }\n",
              "</style>\n",
              "<table border=\"1\" class=\"dataframe\">\n",
              "  <thead>\n",
              "    <tr style=\"text-align: right;\">\n",
              "      <th></th>\n",
              "      <th>video</th>\n",
              "      <th>caption</th>\n",
              "    </tr>\n",
              "  </thead>\n",
              "  <tbody>\n",
              "    <tr>\n",
              "      <td>0</td>\n",
              "      <td>video3.webm</td>\n",
              "      <td>blonde-woman-is-massaged-tilt-down</td>\n",
              "    </tr>\n",
              "    <tr>\n",
              "      <td>1</td>\n",
              "      <td>video4.webm</td>\n",
              "      <td>roulette-table-spinning-with-ball-in-closeup-shot</td>\n",
              "    </tr>\n",
              "    <tr>\n",
              "      <td>2</td>\n",
              "      <td>video6.webm</td>\n",
              "      <td>khr-gangsters</td>\n",
              "    </tr>\n",
              "    <tr>\n",
              "      <td>3</td>\n",
              "      <td>video8.webm</td>\n",
              "      <td>medical-helicopter-hovers-at-airport</td>\n",
              "    </tr>\n",
              "    <tr>\n",
              "      <td>4</td>\n",
              "      <td>video10.webm</td>\n",
              "      <td>couple-relaxing-on-picnic-crane-shot</td>\n",
              "    </tr>\n",
              "  </tbody>\n",
              "</table>\n",
              "</div>"
            ],
            "text/plain": [
              "          video                                            caption\n",
              "0   video3.webm                 blonde-woman-is-massaged-tilt-down\n",
              "1   video4.webm  roulette-table-spinning-with-ball-in-closeup-shot\n",
              "2   video6.webm                                      khr-gangsters\n",
              "3   video8.webm               medical-helicopter-hovers-at-airport\n",
              "4  video10.webm               couple-relaxing-on-picnic-crane-shot"
            ]
          },
          "metadata": {
            "tags": []
          },
          "execution_count": 415
        }
      ]
    },
    {
      "cell_type": "code",
      "metadata": {
        "id": "fspe2687VU-u",
        "colab_type": "code",
        "outputId": "f5298ec8-8866-4cf3-94b1-6c838ef38c5f",
        "colab": {}
      },
      "source": [
        "# load the captions - test set\n",
        "cap_path = 'C:/Users/Reddy/Desktop/ml ass/testset/test-set-1_video-captions.txt'\n",
        "df_captions_test=read_caps(cap_path)\n",
        "df_captions_test.head()"
      ],
      "execution_count": 0,
      "outputs": [
        {
          "output_type": "execute_result",
          "data": {
            "text/html": [
              "<div>\n",
              "<style scoped>\n",
              "    .dataframe tbody tr th:only-of-type {\n",
              "        vertical-align: middle;\n",
              "    }\n",
              "\n",
              "    .dataframe tbody tr th {\n",
              "        vertical-align: top;\n",
              "    }\n",
              "\n",
              "    .dataframe thead th {\n",
              "        text-align: right;\n",
              "    }\n",
              "</style>\n",
              "<table border=\"1\" class=\"dataframe\">\n",
              "  <thead>\n",
              "    <tr style=\"text-align: right;\">\n",
              "      <th></th>\n",
              "      <th>video</th>\n",
              "      <th>caption</th>\n",
              "    </tr>\n",
              "  </thead>\n",
              "  <tbody>\n",
              "    <tr>\n",
              "      <td>0</td>\n",
              "      <td>video7494.webm</td>\n",
              "      <td>green-jeep-struggling-to-drive-over-huge-rocks</td>\n",
              "    </tr>\n",
              "    <tr>\n",
              "      <td>1</td>\n",
              "      <td>video7495.webm</td>\n",
              "      <td>hiking-woman-tourist-is-walking-forward-in-mou...</td>\n",
              "    </tr>\n",
              "    <tr>\n",
              "      <td>2</td>\n",
              "      <td>video7496.webm</td>\n",
              "      <td>close-up-of-african-american-doctors-hands-usi...</td>\n",
              "    </tr>\n",
              "    <tr>\n",
              "      <td>3</td>\n",
              "      <td>video7497.webm</td>\n",
              "      <td>slow-motion-of-a-man-using-treadmill-in-the-gy...</td>\n",
              "    </tr>\n",
              "    <tr>\n",
              "      <td>4</td>\n",
              "      <td>video7498.webm</td>\n",
              "      <td>slow-motion-of-photographer-in-national-park</td>\n",
              "    </tr>\n",
              "  </tbody>\n",
              "</table>\n",
              "</div>"
            ],
            "text/plain": [
              "            video                                            caption\n",
              "0  video7494.webm     green-jeep-struggling-to-drive-over-huge-rocks\n",
              "1  video7495.webm  hiking-woman-tourist-is-walking-forward-in-mou...\n",
              "2  video7496.webm  close-up-of-african-american-doctors-hands-usi...\n",
              "3  video7497.webm  slow-motion-of-a-man-using-treadmill-in-the-gy...\n",
              "4  video7498.webm       slow-motion-of-photographer-in-national-park"
            ]
          },
          "metadata": {
            "tags": []
          },
          "execution_count": 416
        }
      ]
    },
    {
      "cell_type": "markdown",
      "metadata": {
        "id": "zFqeD_12VbBv",
        "colab_type": "text"
      },
      "source": [
        "## Pre Processing"
      ]
    },
    {
      "cell_type": "markdown",
      "metadata": {
        "id": "83XXtAbvVU-w",
        "colab_type": "text"
      },
      "source": [
        "Dropping the useless coloumns like nb_short-term_annotations and nb_long-term_annotations"
      ]
    },
    {
      "cell_type": "code",
      "metadata": {
        "id": "z6Z6ghzVVU-w",
        "colab_type": "code",
        "colab": {}
      },
      "source": [
        "labels_cap_train = labels.drop(['nb_short-term_annotations', 'nb_long-term_annotations'], axis=1)"
      ],
      "execution_count": 0,
      "outputs": []
    },
    {
      "cell_type": "code",
      "metadata": {
        "id": "xzbwQgAwVU-y",
        "colab_type": "code",
        "outputId": "b6adcce1-a0a4-4b34-8341-703acb94b9d8",
        "colab": {}
      },
      "source": [
        "labels_cap_train.head()"
      ],
      "execution_count": 0,
      "outputs": [
        {
          "output_type": "execute_result",
          "data": {
            "text/html": [
              "<div>\n",
              "<style scoped>\n",
              "    .dataframe tbody tr th:only-of-type {\n",
              "        vertical-align: middle;\n",
              "    }\n",
              "\n",
              "    .dataframe tbody tr th {\n",
              "        vertical-align: top;\n",
              "    }\n",
              "\n",
              "    .dataframe thead th {\n",
              "        text-align: right;\n",
              "    }\n",
              "</style>\n",
              "<table border=\"1\" class=\"dataframe\">\n",
              "  <thead>\n",
              "    <tr style=\"text-align: right;\">\n",
              "      <th></th>\n",
              "      <th>video</th>\n",
              "      <th>short-term_memorability</th>\n",
              "      <th>long-term_memorability</th>\n",
              "    </tr>\n",
              "  </thead>\n",
              "  <tbody>\n",
              "    <tr>\n",
              "      <td>0</td>\n",
              "      <td>video3.webm</td>\n",
              "      <td>0.924</td>\n",
              "      <td>0.846</td>\n",
              "    </tr>\n",
              "    <tr>\n",
              "      <td>1</td>\n",
              "      <td>video4.webm</td>\n",
              "      <td>0.923</td>\n",
              "      <td>0.667</td>\n",
              "    </tr>\n",
              "    <tr>\n",
              "      <td>2</td>\n",
              "      <td>video6.webm</td>\n",
              "      <td>0.863</td>\n",
              "      <td>0.700</td>\n",
              "    </tr>\n",
              "    <tr>\n",
              "      <td>3</td>\n",
              "      <td>video8.webm</td>\n",
              "      <td>0.922</td>\n",
              "      <td>0.818</td>\n",
              "    </tr>\n",
              "    <tr>\n",
              "      <td>4</td>\n",
              "      <td>video10.webm</td>\n",
              "      <td>0.950</td>\n",
              "      <td>0.900</td>\n",
              "    </tr>\n",
              "  </tbody>\n",
              "</table>\n",
              "</div>"
            ],
            "text/plain": [
              "          video  short-term_memorability  long-term_memorability\n",
              "0   video3.webm                    0.924                   0.846\n",
              "1   video4.webm                    0.923                   0.667\n",
              "2   video6.webm                    0.863                   0.700\n",
              "3   video8.webm                    0.922                   0.818\n",
              "4  video10.webm                    0.950                   0.900"
            ]
          },
          "metadata": {
            "tags": []
          },
          "execution_count": 418
        }
      ]
    },
    {
      "cell_type": "markdown",
      "metadata": {
        "id": "RZm5agfUVU-0",
        "colab_type": "text"
      },
      "source": [
        "Concating the test and train set into a single set."
      ]
    },
    {
      "cell_type": "code",
      "metadata": {
        "id": "_dKxb_7hVU-1",
        "colab_type": "code",
        "colab": {}
      },
      "source": [
        "df_cap = pd.concat([df_captions, df_captions_test],ignore_index=True)\n"
      ],
      "execution_count": 0,
      "outputs": []
    },
    {
      "cell_type": "code",
      "metadata": {
        "id": "7-KzSeiEVU-3",
        "colab_type": "code",
        "outputId": "40203281-18ab-4512-d9b6-fed389855fbe",
        "colab": {}
      },
      "source": [
        "df_cap.head()"
      ],
      "execution_count": 0,
      "outputs": [
        {
          "output_type": "execute_result",
          "data": {
            "text/html": [
              "<div>\n",
              "<style scoped>\n",
              "    .dataframe tbody tr th:only-of-type {\n",
              "        vertical-align: middle;\n",
              "    }\n",
              "\n",
              "    .dataframe tbody tr th {\n",
              "        vertical-align: top;\n",
              "    }\n",
              "\n",
              "    .dataframe thead th {\n",
              "        text-align: right;\n",
              "    }\n",
              "</style>\n",
              "<table border=\"1\" class=\"dataframe\">\n",
              "  <thead>\n",
              "    <tr style=\"text-align: right;\">\n",
              "      <th></th>\n",
              "      <th>video</th>\n",
              "      <th>caption</th>\n",
              "    </tr>\n",
              "  </thead>\n",
              "  <tbody>\n",
              "    <tr>\n",
              "      <td>0</td>\n",
              "      <td>video3.webm</td>\n",
              "      <td>blonde-woman-is-massaged-tilt-down</td>\n",
              "    </tr>\n",
              "    <tr>\n",
              "      <td>1</td>\n",
              "      <td>video4.webm</td>\n",
              "      <td>roulette-table-spinning-with-ball-in-closeup-shot</td>\n",
              "    </tr>\n",
              "    <tr>\n",
              "      <td>2</td>\n",
              "      <td>video6.webm</td>\n",
              "      <td>khr-gangsters</td>\n",
              "    </tr>\n",
              "    <tr>\n",
              "      <td>3</td>\n",
              "      <td>video8.webm</td>\n",
              "      <td>medical-helicopter-hovers-at-airport</td>\n",
              "    </tr>\n",
              "    <tr>\n",
              "      <td>4</td>\n",
              "      <td>video10.webm</td>\n",
              "      <td>couple-relaxing-on-picnic-crane-shot</td>\n",
              "    </tr>\n",
              "  </tbody>\n",
              "</table>\n",
              "</div>"
            ],
            "text/plain": [
              "          video                                            caption\n",
              "0   video3.webm                 blonde-woman-is-massaged-tilt-down\n",
              "1   video4.webm  roulette-table-spinning-with-ball-in-closeup-shot\n",
              "2   video6.webm                                      khr-gangsters\n",
              "3   video8.webm               medical-helicopter-hovers-at-airport\n",
              "4  video10.webm               couple-relaxing-on-picnic-crane-shot"
            ]
          },
          "metadata": {
            "tags": []
          },
          "execution_count": 421
        }
      ]
    },
    {
      "cell_type": "code",
      "metadata": {
        "id": "ibGkxdAHVU-5",
        "colab_type": "code",
        "outputId": "27dc5d6b-c0af-4335-bc6d-43ebe2849120",
        "colab": {}
      },
      "source": [
        "df_cap.tail()"
      ],
      "execution_count": 0,
      "outputs": [
        {
          "output_type": "execute_result",
          "data": {
            "text/html": [
              "<div>\n",
              "<style scoped>\n",
              "    .dataframe tbody tr th:only-of-type {\n",
              "        vertical-align: middle;\n",
              "    }\n",
              "\n",
              "    .dataframe tbody tr th {\n",
              "        vertical-align: top;\n",
              "    }\n",
              "\n",
              "    .dataframe thead th {\n",
              "        text-align: right;\n",
              "    }\n",
              "</style>\n",
              "<table border=\"1\" class=\"dataframe\">\n",
              "  <thead>\n",
              "    <tr style=\"text-align: right;\">\n",
              "      <th></th>\n",
              "      <th>video</th>\n",
              "      <th>caption</th>\n",
              "    </tr>\n",
              "  </thead>\n",
              "  <tbody>\n",
              "    <tr>\n",
              "      <td>7995</td>\n",
              "      <td>video10004.webm</td>\n",
              "      <td>astronaut-in-outer-space-against-the-backdrop-...</td>\n",
              "    </tr>\n",
              "    <tr>\n",
              "      <td>7996</td>\n",
              "      <td>video10005.webm</td>\n",
              "      <td>young-women-lying-on-sunbed-and-applying-sun-c...</td>\n",
              "    </tr>\n",
              "    <tr>\n",
              "      <td>7997</td>\n",
              "      <td>video10006.webm</td>\n",
              "      <td>doctor-talking-to-patient-using-a-tablet-to-ex...</td>\n",
              "    </tr>\n",
              "    <tr>\n",
              "      <td>7998</td>\n",
              "      <td>video10007.webm</td>\n",
              "      <td>businessman-sitting-on-the-beach-on-inflatable...</td>\n",
              "    </tr>\n",
              "    <tr>\n",
              "      <td>7999</td>\n",
              "      <td>video10008.webm</td>\n",
              "      <td>woman-eating-ice-cream-and-sitting-in-the-stre...</td>\n",
              "    </tr>\n",
              "  </tbody>\n",
              "</table>\n",
              "</div>"
            ],
            "text/plain": [
              "                video                                            caption\n",
              "7995  video10004.webm  astronaut-in-outer-space-against-the-backdrop-...\n",
              "7996  video10005.webm  young-women-lying-on-sunbed-and-applying-sun-c...\n",
              "7997  video10006.webm  doctor-talking-to-patient-using-a-tablet-to-ex...\n",
              "7998  video10007.webm  businessman-sitting-on-the-beach-on-inflatable...\n",
              "7999  video10008.webm  woman-eating-ice-cream-and-sitting-in-the-stre..."
            ]
          },
          "metadata": {
            "tags": []
          },
          "execution_count": 422
        }
      ]
    },
    {
      "cell_type": "code",
      "metadata": {
        "id": "D0UStyxFVU--",
        "colab_type": "code",
        "outputId": "27441837-e497-47cf-d4cc-b30a3599b02c",
        "colab": {}
      },
      "source": [
        "import string\n",
        "string.punctuation"
      ],
      "execution_count": 0,
      "outputs": [
        {
          "output_type": "execute_result",
          "data": {
            "text/plain": [
              "'!\"#$%&\\'()*+,-./:;<=>?@[\\\\]^_`{|}~'"
            ]
          },
          "metadata": {
            "tags": []
          },
          "execution_count": 423
        }
      ]
    },
    {
      "cell_type": "markdown",
      "metadata": {
        "id": "cQUUOFsZVU_A",
        "colab_type": "text"
      },
      "source": [
        "function to remove punctuation"
      ]
    },
    {
      "cell_type": "code",
      "metadata": {
        "id": "9YVxuOLoVU_A",
        "colab_type": "code",
        "colab": {}
      },
      "source": [
        "\n",
        "def remove_punct(text):\n",
        "  text_nopunct=\"\".join([char for char in text if char not in string.punctuation])  #it will discard all punctuation\n",
        "  return text_nopunct"
      ],
      "execution_count": 0,
      "outputs": []
    },
    {
      "cell_type": "markdown",
      "metadata": {
        "id": "lW5CEcffVU_D",
        "colab_type": "text"
      },
      "source": [
        "Removal of punctuations between the words"
      ]
    },
    {
      "cell_type": "code",
      "metadata": {
        "id": "pl0X9luHVU_D",
        "colab_type": "code",
        "outputId": "92c7c56d-a527-467b-e106-c0633d22e086",
        "colab": {}
      },
      "source": [
        "df_cap['cleaned body']=df_cap['caption'].apply(lambda x: remove_punct(x))\n",
        "df_cap.tail()"
      ],
      "execution_count": 0,
      "outputs": [
        {
          "output_type": "execute_result",
          "data": {
            "text/html": [
              "<div>\n",
              "<style scoped>\n",
              "    .dataframe tbody tr th:only-of-type {\n",
              "        vertical-align: middle;\n",
              "    }\n",
              "\n",
              "    .dataframe tbody tr th {\n",
              "        vertical-align: top;\n",
              "    }\n",
              "\n",
              "    .dataframe thead th {\n",
              "        text-align: right;\n",
              "    }\n",
              "</style>\n",
              "<table border=\"1\" class=\"dataframe\">\n",
              "  <thead>\n",
              "    <tr style=\"text-align: right;\">\n",
              "      <th></th>\n",
              "      <th>video</th>\n",
              "      <th>caption</th>\n",
              "      <th>cleaned body</th>\n",
              "    </tr>\n",
              "  </thead>\n",
              "  <tbody>\n",
              "    <tr>\n",
              "      <td>7995</td>\n",
              "      <td>video10004.webm</td>\n",
              "      <td>astronaut-in-outer-space-against-the-backdrop-...</td>\n",
              "      <td>astronautinouterspaceagainstthebackdropofthepl...</td>\n",
              "    </tr>\n",
              "    <tr>\n",
              "      <td>7996</td>\n",
              "      <td>video10005.webm</td>\n",
              "      <td>young-women-lying-on-sunbed-and-applying-sun-c...</td>\n",
              "      <td>youngwomenlyingonsunbedandapplyingsuncream</td>\n",
              "    </tr>\n",
              "    <tr>\n",
              "      <td>7997</td>\n",
              "      <td>video10006.webm</td>\n",
              "      <td>doctor-talking-to-patient-using-a-tablet-to-ex...</td>\n",
              "      <td>doctortalkingtopatientusingatablettoexplainher...</td>\n",
              "    </tr>\n",
              "    <tr>\n",
              "      <td>7998</td>\n",
              "      <td>video10007.webm</td>\n",
              "      <td>businessman-sitting-on-the-beach-on-inflatable...</td>\n",
              "      <td>businessmansittingonthebeachoninflatablemattre...</td>\n",
              "    </tr>\n",
              "    <tr>\n",
              "      <td>7999</td>\n",
              "      <td>video10008.webm</td>\n",
              "      <td>woman-eating-ice-cream-and-sitting-in-the-stre...</td>\n",
              "      <td>womaneatingicecreamandsittinginthestreetcafe</td>\n",
              "    </tr>\n",
              "  </tbody>\n",
              "</table>\n",
              "</div>"
            ],
            "text/plain": [
              "                video                                            caption  \\\n",
              "7995  video10004.webm  astronaut-in-outer-space-against-the-backdrop-...   \n",
              "7996  video10005.webm  young-women-lying-on-sunbed-and-applying-sun-c...   \n",
              "7997  video10006.webm  doctor-talking-to-patient-using-a-tablet-to-ex...   \n",
              "7998  video10007.webm  businessman-sitting-on-the-beach-on-inflatable...   \n",
              "7999  video10008.webm  woman-eating-ice-cream-and-sitting-in-the-stre...   \n",
              "\n",
              "                                           cleaned body  \n",
              "7995  astronautinouterspaceagainstthebackdropofthepl...  \n",
              "7996         youngwomenlyingonsunbedandapplyingsuncream  \n",
              "7997  doctortalkingtopatientusingatablettoexplainher...  \n",
              "7998  businessmansittingonthebeachoninflatablemattre...  \n",
              "7999       womaneatingicecreamandsittinginthestreetcafe  "
            ]
          },
          "metadata": {
            "tags": []
          },
          "execution_count": 426
        }
      ]
    },
    {
      "cell_type": "markdown",
      "metadata": {
        "id": "kBqkWaSuVU_F",
        "colab_type": "text"
      },
      "source": [
        "Tokenization"
      ]
    },
    {
      "cell_type": "code",
      "metadata": {
        "id": "1F56tMh_VU_F",
        "colab_type": "code",
        "outputId": "93dd1ab7-1e88-4464-b3b2-96650b1593b5",
        "colab": {}
      },
      "source": [
        "import re\n",
        "\n",
        "#function to tokenise\n",
        "\n",
        "def tokenize(text):\n",
        "  tokens=re.split('\\W+',text)\n",
        "  return tokens\n",
        "df_cap['tokenized_body']=df_cap['caption'].apply(lambda x: tokenize(x.lower()))\n",
        "df_cap.tail()"
      ],
      "execution_count": 0,
      "outputs": [
        {
          "output_type": "execute_result",
          "data": {
            "text/html": [
              "<div>\n",
              "<style scoped>\n",
              "    .dataframe tbody tr th:only-of-type {\n",
              "        vertical-align: middle;\n",
              "    }\n",
              "\n",
              "    .dataframe tbody tr th {\n",
              "        vertical-align: top;\n",
              "    }\n",
              "\n",
              "    .dataframe thead th {\n",
              "        text-align: right;\n",
              "    }\n",
              "</style>\n",
              "<table border=\"1\" class=\"dataframe\">\n",
              "  <thead>\n",
              "    <tr style=\"text-align: right;\">\n",
              "      <th></th>\n",
              "      <th>video</th>\n",
              "      <th>caption</th>\n",
              "      <th>cleaned body</th>\n",
              "      <th>tokenized_body</th>\n",
              "    </tr>\n",
              "  </thead>\n",
              "  <tbody>\n",
              "    <tr>\n",
              "      <td>7995</td>\n",
              "      <td>video10004.webm</td>\n",
              "      <td>astronaut-in-outer-space-against-the-backdrop-...</td>\n",
              "      <td>astronautinouterspaceagainstthebackdropofthepl...</td>\n",
              "      <td>[astronaut, in, outer, space, against, the, ba...</td>\n",
              "    </tr>\n",
              "    <tr>\n",
              "      <td>7996</td>\n",
              "      <td>video10005.webm</td>\n",
              "      <td>young-women-lying-on-sunbed-and-applying-sun-c...</td>\n",
              "      <td>youngwomenlyingonsunbedandapplyingsuncream</td>\n",
              "      <td>[young, women, lying, on, sunbed, and, applyin...</td>\n",
              "    </tr>\n",
              "    <tr>\n",
              "      <td>7997</td>\n",
              "      <td>video10006.webm</td>\n",
              "      <td>doctor-talking-to-patient-using-a-tablet-to-ex...</td>\n",
              "      <td>doctortalkingtopatientusingatablettoexplainher...</td>\n",
              "      <td>[doctor, talking, to, patient, using, a, table...</td>\n",
              "    </tr>\n",
              "    <tr>\n",
              "      <td>7998</td>\n",
              "      <td>video10007.webm</td>\n",
              "      <td>businessman-sitting-on-the-beach-on-inflatable...</td>\n",
              "      <td>businessmansittingonthebeachoninflatablemattre...</td>\n",
              "      <td>[businessman, sitting, on, the, beach, on, inf...</td>\n",
              "    </tr>\n",
              "    <tr>\n",
              "      <td>7999</td>\n",
              "      <td>video10008.webm</td>\n",
              "      <td>woman-eating-ice-cream-and-sitting-in-the-stre...</td>\n",
              "      <td>womaneatingicecreamandsittinginthestreetcafe</td>\n",
              "      <td>[woman, eating, ice, cream, and, sitting, in, ...</td>\n",
              "    </tr>\n",
              "  </tbody>\n",
              "</table>\n",
              "</div>"
            ],
            "text/plain": [
              "                video                                            caption  \\\n",
              "7995  video10004.webm  astronaut-in-outer-space-against-the-backdrop-...   \n",
              "7996  video10005.webm  young-women-lying-on-sunbed-and-applying-sun-c...   \n",
              "7997  video10006.webm  doctor-talking-to-patient-using-a-tablet-to-ex...   \n",
              "7998  video10007.webm  businessman-sitting-on-the-beach-on-inflatable...   \n",
              "7999  video10008.webm  woman-eating-ice-cream-and-sitting-in-the-stre...   \n",
              "\n",
              "                                           cleaned body  \\\n",
              "7995  astronautinouterspaceagainstthebackdropofthepl...   \n",
              "7996         youngwomenlyingonsunbedandapplyingsuncream   \n",
              "7997  doctortalkingtopatientusingatablettoexplainher...   \n",
              "7998  businessmansittingonthebeachoninflatablemattre...   \n",
              "7999       womaneatingicecreamandsittinginthestreetcafe   \n",
              "\n",
              "                                         tokenized_body  \n",
              "7995  [astronaut, in, outer, space, against, the, ba...  \n",
              "7996  [young, women, lying, on, sunbed, and, applyin...  \n",
              "7997  [doctor, talking, to, patient, using, a, table...  \n",
              "7998  [businessman, sitting, on, the, beach, on, inf...  \n",
              "7999  [woman, eating, ice, cream, and, sitting, in, ...  "
            ]
          },
          "metadata": {
            "tags": []
          },
          "execution_count": 438
        }
      ]
    },
    {
      "cell_type": "markdown",
      "metadata": {
        "id": "UwSP6jfzVU_H",
        "colab_type": "text"
      },
      "source": [
        "Count vectorizer converts a collection of text into a matrix of token counts."
      ]
    },
    {
      "cell_type": "code",
      "metadata": {
        "id": "VpZ1pkUnVU_I",
        "colab_type": "code",
        "colab": {}
      },
      "source": [
        "from sklearn.feature_extraction.text import CountVectorizer\n",
        "count_vect=CountVectorizer(min_df=1, stop_words='english')"
      ],
      "execution_count": 0,
      "outputs": []
    },
    {
      "cell_type": "code",
      "metadata": {
        "id": "Q8g3Ia7UVU_K",
        "colab_type": "code",
        "outputId": "faa93e6e-9df7-41e3-d87a-df24fa4e270f",
        "colab": {}
      },
      "source": [
        "X_counts=count_vect.fit_transform(df_cap['caption'])\n",
        "print(X_counts.shape)"
      ],
      "execution_count": 0,
      "outputs": [
        {
          "output_type": "stream",
          "text": [
            "(8000, 5691)\n"
          ],
          "name": "stdout"
        }
      ]
    },
    {
      "cell_type": "code",
      "metadata": {
        "id": "9xom8EzPVU_L",
        "colab_type": "code",
        "colab": {}
      },
      "source": [
        "X_counts_seq=X_counts.toarray()\n"
      ],
      "execution_count": 0,
      "outputs": []
    },
    {
      "cell_type": "code",
      "metadata": {
        "id": "2eWQpi9HVU_O",
        "colab_type": "code",
        "outputId": "ed3eb082-7413-42d6-ccc7-e81b1213335d",
        "colab": {}
      },
      "source": [
        "X_counts_seq.shape"
      ],
      "execution_count": 0,
      "outputs": [
        {
          "output_type": "execute_result",
          "data": {
            "text/plain": [
              "(8000, 5691)"
            ]
          },
          "metadata": {
            "tags": []
          },
          "execution_count": 442
        }
      ]
    },
    {
      "cell_type": "markdown",
      "metadata": {
        "id": "0V7NHor9VU_Q",
        "colab_type": "text"
      },
      "source": [
        "Converting the whole captions df into 80% train and 20% test."
      ]
    },
    {
      "cell_type": "code",
      "metadata": {
        "id": "U5F5DV60VU_Q",
        "colab_type": "code",
        "colab": {}
      },
      "source": [
        "X_train = X_counts_seq[0:6000]\n",
        "X_test = X_counts_seq[6000:]"
      ],
      "execution_count": 0,
      "outputs": []
    },
    {
      "cell_type": "code",
      "metadata": {
        "id": "BVZdO1pBVU_S",
        "colab_type": "code",
        "outputId": "0f3381bb-a27d-4c1b-c634-60ebb0e85033",
        "colab": {}
      },
      "source": [
        "print('X_train', X_train.shape)\n",
        "print('X_test', X_test.shape)"
      ],
      "execution_count": 0,
      "outputs": [
        {
          "output_type": "stream",
          "text": [
            "X_train (6000, 5691)\n",
            "X_test (2000, 5691)\n"
          ],
          "name": "stdout"
        }
      ]
    },
    {
      "cell_type": "code",
      "metadata": {
        "id": "K0_PWsouVU_U",
        "colab_type": "code",
        "colab": {}
      },
      "source": [
        "Y=labels_cap_train[['short-term_memorability','long-term_memorability']].values  #targets\n",
        "X=X_train #input"
      ],
      "execution_count": 0,
      "outputs": []
    },
    {
      "cell_type": "code",
      "metadata": {
        "id": "pSXsG6ZKVU_X",
        "colab_type": "code",
        "outputId": "f9d0802c-5230-43f6-b43f-00c049856e75",
        "colab": {}
      },
      "source": [
        "X.shape"
      ],
      "execution_count": 0,
      "outputs": [
        {
          "output_type": "execute_result",
          "data": {
            "text/plain": [
              "(6000, 5691)"
            ]
          },
          "metadata": {
            "tags": []
          },
          "execution_count": 436
        }
      ]
    },
    {
      "cell_type": "markdown",
      "metadata": {
        "id": "9F7hQxEXVU_Y",
        "colab_type": "text"
      },
      "source": [
        "Splitting the train data into train and validation sets."
      ]
    },
    {
      "cell_type": "code",
      "metadata": {
        "id": "4vSonAUoVU_Z",
        "colab_type": "code",
        "colab": {}
      },
      "source": [
        "X_train, X_val, Y_train, Y_val = train_test_split(X,Y, test_size=0.2, random_state=42)\n"
      ],
      "execution_count": 0,
      "outputs": []
    },
    {
      "cell_type": "code",
      "metadata": {
        "id": "nzftwWenVU_b",
        "colab_type": "code",
        "outputId": "e0dde0a7-6833-4364-97c0-d7a0393f8356",
        "colab": {}
      },
      "source": [
        "print('X_train', X_train.shape)\n",
        "print('X_val', X_val.shape)\n",
        "print('Y_train', Y_train.shape)\n",
        "print('Y_val', Y_val.shape)"
      ],
      "execution_count": 0,
      "outputs": [
        {
          "output_type": "stream",
          "text": [
            "X_train (4800, 5691)\n",
            "X_val (1200, 5691)\n",
            "Y_train (4800, 2)\n",
            "Y_val (1200, 2)\n"
          ],
          "name": "stdout"
        }
      ]
    },
    {
      "cell_type": "code",
      "metadata": {
        "id": "Rj2jGRKbVU_e",
        "colab_type": "code",
        "outputId": "e7e61663-ddb4-46dd-9324-ca84966c820b",
        "colab": {}
      },
      "source": [
        "n_cols = X_train.shape[1]\n",
        "n_cols"
      ],
      "execution_count": 0,
      "outputs": [
        {
          "output_type": "execute_result",
          "data": {
            "text/plain": [
              "5691"
            ]
          },
          "metadata": {
            "tags": []
          },
          "execution_count": 447
        }
      ]
    },
    {
      "cell_type": "markdown",
      "metadata": {
        "id": "NAWUUPbqVU_f",
        "colab_type": "text"
      },
      "source": [
        "## A feed forward network with 6 layers with adam optimizer"
      ]
    },
    {
      "cell_type": "code",
      "metadata": {
        "id": "1kvnrAYPVU_g",
        "colab_type": "code",
        "outputId": "e3f9d7b6-adba-4972-c98c-9faefae4357c",
        "colab": {}
      },
      "source": [
        "import tensorflow as tf\n",
        "from tensorflow import keras\n",
        "from tensorflow.keras.models import Sequential\n",
        "from tensorflow.keras.layers import Dense\n",
        "from tensorflow.keras.layers import Dropout\n",
        "\n",
        "\n",
        "model_cap = Sequential()\n",
        "\n",
        "model_cap.add(Dense(700, activation='sigmoid', kernel_regularizer=regularizers.l1(0.),input_shape=(n_cols,)))\n",
        "model_cap.add(Dropout(0.5)) \n",
        "model_cap.add(Dense(700, activation='sigmoid',kernel_regularizer=regularizers.l1(0.)))\n",
        "model_cap.add(Dropout(0.4))\n",
        "model_cap.add(Dense(650, activation='sigmoid',kernel_regularizer=regularizers.l1(0.)))\n",
        "model_cap.add(Dropout(0.4))\n",
        "model_cap.add(Dense(650, activation='sigmoid',kernel_regularizer=regularizers.l1(0.)))\n",
        "model_cap.add(Dropout(0.3))\n",
        "model_cap.add(Dense(150, activation='sigmoid',kernel_regularizer=regularizers.l1(0.)))\n",
        "model_cap.add(Dropout(0.3)) \n",
        "model_cap.add(Dense(2))\n",
        "\n",
        "\n",
        "\n",
        "# Compiling the model\n",
        "model_cap.compile(optimizer='adam', loss = 'mean_squared_error',metrics=['accuracy'])\n",
        "\n",
        "\n",
        "# Verifying that model contains information from compiling\n",
        "print(\"Loss function: \" + model_cap.loss)\n",
        "\n",
        "# Fitting the model\n",
        "history = model_cap.fit(X_train,Y_train,epochs=20,validation_data=(X_val,Y_val), shuffle=True, verbose=True)\n",
        "loss = history.history['loss']\n",
        "val_loss = history.history['val_loss']\n",
        "\n",
        "epochs = range(1,len(loss)+1)\n",
        "\n",
        "plt.plot(epochs,loss,'bo',label='Training loss')\n",
        "plt.plot(epochs,val_loss,'b',label='Validation loss')\n",
        "plt.title('Training and validation loss')\n",
        "plt.xlabel('Epochs')\n",
        "plt.ylabel('Loss')\n",
        "plt.legend()\n",
        "plt.show()\n",
        "\n",
        "plt.figure()\n",
        "acc = history.history['accuracy']\n",
        "val_acc = history.history['val_accuracy']\n",
        "plt.plot(epochs, acc, 'bo', label='Training acc')\n",
        "plt.plot(epochs, val_acc, 'b', label='Validation acc')\n",
        "plt.title('Training and validation accuracy')\n",
        "plt.xlabel('Epochs')\n",
        "plt.ylabel('Acc')\n",
        "plt.legend()\n",
        "plt.show()"
      ],
      "execution_count": 0,
      "outputs": [
        {
          "output_type": "stream",
          "text": [
            "Loss function: mean_squared_error\n",
            "Train on 4800 samples, validate on 1200 samples\n",
            "Epoch 1/20\n",
            "4800/4800 [==============================] - 11s 2ms/sample - loss: 0.1401 - accuracy: 0.5427 - val_loss: 0.0141 - val_accuracy: 0.7100\n",
            "Epoch 2/20\n",
            "4800/4800 [==============================] - 8s 2ms/sample - loss: 0.0279 - accuracy: 0.6060 - val_loss: 0.0142 - val_accuracy: 0.7100\n",
            "Epoch 3/20\n",
            "4800/4800 [==============================] - 8s 2ms/sample - loss: 0.0244 - accuracy: 0.6402 - val_loss: 0.0151 - val_accuracy: 0.7100\n",
            "Epoch 4/20\n",
            "4800/4800 [==============================] - 8s 2ms/sample - loss: 0.0234 - accuracy: 0.6473 - val_loss: 0.0164 - val_accuracy: 0.7100\n",
            "Epoch 5/20\n",
            "4800/4800 [==============================] - 8s 2ms/sample - loss: 0.0225 - accuracy: 0.6581 - val_loss: 0.0147 - val_accuracy: 0.7100\n",
            "Epoch 6/20\n",
            "4800/4800 [==============================] - 7s 2ms/sample - loss: 0.0213 - accuracy: 0.6596 - val_loss: 0.0156 - val_accuracy: 0.7100\n",
            "Epoch 7/20\n",
            "4800/4800 [==============================] - 7s 2ms/sample - loss: 0.0210 - accuracy: 0.6740 - val_loss: 0.0144 - val_accuracy: 0.7100\n",
            "Epoch 8/20\n",
            "4800/4800 [==============================] - 8s 2ms/sample - loss: 0.0211 - accuracy: 0.6773 - val_loss: 0.0140 - val_accuracy: 0.7100\n",
            "Epoch 9/20\n",
            "4800/4800 [==============================] - 7s 2ms/sample - loss: 0.0200 - accuracy: 0.6840 - val_loss: 0.0141 - val_accuracy: 0.7100\n",
            "Epoch 10/20\n",
            "4800/4800 [==============================] - 7s 2ms/sample - loss: 0.0203 - accuracy: 0.6867 - val_loss: 0.0175 - val_accuracy: 0.7100\n",
            "Epoch 11/20\n",
            "4800/4800 [==============================] - 8s 2ms/sample - loss: 0.0198 - accuracy: 0.6806 - val_loss: 0.0147 - val_accuracy: 0.7100\n",
            "Epoch 12/20\n",
            "4800/4800 [==============================] - 7s 2ms/sample - loss: 0.0194 - accuracy: 0.6958 - val_loss: 0.0142 - val_accuracy: 0.7100\n",
            "Epoch 13/20\n",
            "4800/4800 [==============================] - 7s 2ms/sample - loss: 0.0187 - accuracy: 0.6942 - val_loss: 0.0162 - val_accuracy: 0.7100\n",
            "Epoch 14/20\n",
            "4800/4800 [==============================] - 8s 2ms/sample - loss: 0.0181 - accuracy: 0.6910 - val_loss: 0.0167 - val_accuracy: 0.7100\n",
            "Epoch 15/20\n",
            "4800/4800 [==============================] - 7s 2ms/sample - loss: 0.0181 - accuracy: 0.6969 - val_loss: 0.0168 - val_accuracy: 0.7100\n",
            "Epoch 16/20\n",
            "4800/4800 [==============================] - 7s 2ms/sample - loss: 0.0177 - accuracy: 0.6967 - val_loss: 0.0142 - val_accuracy: 0.7100\n",
            "Epoch 17/20\n",
            "4800/4800 [==============================] - 7s 2ms/sample - loss: 0.0170 - accuracy: 0.6979 - val_loss: 0.0140 - val_accuracy: 0.7100- accu - ETA: 1s - loss: 0.0173 - accura - ETA: 0s - loss: 0.0172 - \n",
            "Epoch 18/20\n",
            "4800/4800 [==============================] - 7s 2ms/sample - loss: 0.0163 - accuracy: 0.6975 - val_loss: 0.0146 - val_accuracy: 0.7100\n",
            "Epoch 19/20\n",
            "4800/4800 [==============================] - 7s 2ms/sample - loss: 0.0158 - accuracy: 0.7008 - val_loss: 0.0133 - val_accuracy: 0.7100- accuracy: 0.69 - ETA: 0s - loss: 0.0159 - accura\n",
            "Epoch 20/20\n",
            "4800/4800 [==============================] - 7s 2ms/sample - loss: 0.0151 - accuracy: 0.7000 - val_loss: 0.0131 - val_accuracy: 0.7100\n"
          ],
          "name": "stdout"
        },
        {
          "output_type": "display_data",
          "data": {
            "image/png": "[encoded data removed]",
            "text/plain": [
              "<Figure size 432x288 with 1 Axes>"
            ]
          },
          "metadata": {
            "tags": [],
            "needs_background": "light"
          }
        },
        {
          "output_type": "display_data",
          "data": {
            "image/png": "[encoded data removed]",
            "text/plain": [
              "<Figure size 432x288 with 1 Axes>"
            ]
          },
          "metadata": {
            "tags": [],
            "needs_background": "light"
          }
        }
      ]
    },
    {
      "cell_type": "markdown",
      "metadata": {
        "id": "XxGBITYXVU_i",
        "colab_type": "text"
      },
      "source": [
        "## Predicting the rank based on validation set."
      ]
    },
    {
      "cell_type": "code",
      "metadata": {
        "id": "J-v1P5R_VU_i",
        "colab_type": "code",
        "outputId": "691d3b9e-d7b2-4b51-b2ac-a4a91d283787",
        "colab": {}
      },
      "source": [
        "predictions = model_cap.predict(X_val)\n",
        "# print(predictions)\n",
        "Get_score(predictions, Y_val)\n",
        "cap_pred=predictions"
      ],
      "execution_count": 0,
      "outputs": [
        {
          "output_type": "stream",
          "text": [
            "The Spearman's correlation coefficient is: 0.443\n",
            "The Spearman's correlation coefficient is: 0.207\n"
          ],
          "name": "stdout"
        }
      ]
    },
    {
      "cell_type": "code",
      "metadata": {
        "id": "pvqoHATAVU_k",
        "colab_type": "code",
        "colab": {}
      },
      "source": [
        "# model_cap.save('./cap.h5')"
      ],
      "execution_count": 0,
      "outputs": []
    },
    {
      "cell_type": "code",
      "metadata": {
        "id": "yD5tX7tKVU_m",
        "colab_type": "code",
        "colab": {}
      },
      "source": [
        "labels_test = labels_test.drop(['nb_short-term_annotations', 'nb_long-term_annotations'], axis=1)"
      ],
      "execution_count": 0,
      "outputs": []
    },
    {
      "cell_type": "code",
      "metadata": {
        "id": "xNm1xHAbVU_o",
        "colab_type": "code",
        "outputId": "dd6fd13b-2b63-4b93-d1f8-f7ebc311df6b",
        "colab": {}
      },
      "source": [
        "labels_test.head()"
      ],
      "execution_count": 0,
      "outputs": [
        {
          "output_type": "execute_result",
          "data": {
            "text/html": [
              "<div>\n",
              "<style scoped>\n",
              "    .dataframe tbody tr th:only-of-type {\n",
              "        vertical-align: middle;\n",
              "    }\n",
              "\n",
              "    .dataframe tbody tr th {\n",
              "        vertical-align: top;\n",
              "    }\n",
              "\n",
              "    .dataframe thead th {\n",
              "        text-align: right;\n",
              "    }\n",
              "</style>\n",
              "<table border=\"1\" class=\"dataframe\">\n",
              "  <thead>\n",
              "    <tr style=\"text-align: right;\">\n",
              "      <th></th>\n",
              "      <th>video</th>\n",
              "      <th>short-term_memorability</th>\n",
              "      <th>long-term_memorability</th>\n",
              "    </tr>\n",
              "  </thead>\n",
              "  <tbody>\n",
              "    <tr>\n",
              "      <td>0</td>\n",
              "      <td>7494</td>\n",
              "      <td>NaN</td>\n",
              "      <td>NaN</td>\n",
              "    </tr>\n",
              "    <tr>\n",
              "      <td>1</td>\n",
              "      <td>7495</td>\n",
              "      <td>NaN</td>\n",
              "      <td>NaN</td>\n",
              "    </tr>\n",
              "    <tr>\n",
              "      <td>2</td>\n",
              "      <td>7496</td>\n",
              "      <td>NaN</td>\n",
              "      <td>NaN</td>\n",
              "    </tr>\n",
              "    <tr>\n",
              "      <td>3</td>\n",
              "      <td>7497</td>\n",
              "      <td>NaN</td>\n",
              "      <td>NaN</td>\n",
              "    </tr>\n",
              "    <tr>\n",
              "      <td>4</td>\n",
              "      <td>7498</td>\n",
              "      <td>NaN</td>\n",
              "      <td>NaN</td>\n",
              "    </tr>\n",
              "  </tbody>\n",
              "</table>\n",
              "</div>"
            ],
            "text/plain": [
              "   video  short-term_memorability  long-term_memorability\n",
              "0   7494                      NaN                     NaN\n",
              "1   7495                      NaN                     NaN\n",
              "2   7496                      NaN                     NaN\n",
              "3   7497                      NaN                     NaN\n",
              "4   7498                      NaN                     NaN"
            ]
          },
          "metadata": {
            "tags": []
          },
          "execution_count": 452
        }
      ]
    },
    {
      "cell_type": "markdown",
      "metadata": {
        "id": "aJQTtdejVU_q",
        "colab_type": "text"
      },
      "source": [
        "# Captions with Embedding\n",
        "    "
      ]
    },
    {
      "cell_type": "markdown",
      "metadata": {
        "id": "0OVC5OdTV7cf",
        "colab_type": "text"
      },
      "source": [
        "## preprocessing "
      ]
    },
    {
      "cell_type": "markdown",
      "metadata": {
        "id": "p2L7Fsj-VU_q",
        "colab_type": "text"
      },
      "source": [
        "Tokenization of original text."
      ]
    },
    {
      "cell_type": "code",
      "metadata": {
        "id": "D4ZeD9QeVU_r",
        "colab_type": "code",
        "colab": {}
      },
      "source": [
        "res_len=np.zeros(len(df_captions))\n",
        "for ii in range(len(df_captions)):\n",
        "    text = df_captions.caption[ii]\n",
        "    res_len[ii]=len(text.split())"
      ],
      "execution_count": 0,
      "outputs": []
    },
    {
      "cell_type": "code",
      "metadata": {
        "id": "MIPabwVwVU_t",
        "colab_type": "code",
        "colab": {}
      },
      "source": [
        "maxlen = int(max(res_len))\n"
      ],
      "execution_count": 0,
      "outputs": []
    },
    {
      "cell_type": "markdown",
      "metadata": {
        "id": "65_0K5PtVU_v",
        "colab_type": "text"
      },
      "source": [
        "Padding of the tokens to make everything in same length"
      ]
    },
    {
      "cell_type": "code",
      "metadata": {
        "id": "lraBavRoVU_w",
        "colab_type": "code",
        "colab": {}
      },
      "source": [
        "from collections import Counter\n",
        "counts=Counter()\n",
        "from keras.preprocessing.sequence import pad_sequences\n",
        "# build the word index\n",
        "len_token = len(counts)\n",
        "tokenizer = Tokenizer(num_words=len_token)\n",
        "tokenizer.fit_on_texts(list(df_captions.caption.values))\n",
        "sequences = tokenizer.texts_to_sequences(list(df_captions.caption.values))\n",
        "\n",
        "maxlen = 20\n",
        "X_seq = pad_sequences(sequences,maxlen=maxlen)"
      ],
      "execution_count": 0,
      "outputs": []
    },
    {
      "cell_type": "code",
      "metadata": {
        "id": "NMRgwLz6VU_y",
        "colab_type": "code",
        "colab": {}
      },
      "source": [
        "Y = labels[['short-term_memorability','long-term_memorability']].values\n",
        "X = X_seq\n",
        "X_all = X"
      ],
      "execution_count": 0,
      "outputs": []
    },
    {
      "cell_type": "markdown",
      "metadata": {
        "id": "MUcFRPh0VU_2",
        "colab_type": "text"
      },
      "source": [
        "Splitting of captions into train and valdiation sets."
      ]
    },
    {
      "cell_type": "code",
      "metadata": {
        "id": "Pl6Oln1hVU_2",
        "colab_type": "code",
        "colab": {}
      },
      "source": [
        "X_train, X_val, Y_train, Y_val = train_test_split(X,Y, test_size=0.2, random_state=42)\n"
      ],
      "execution_count": 0,
      "outputs": []
    },
    {
      "cell_type": "markdown",
      "metadata": {
        "id": "o9GyfW-xVU_4",
        "colab_type": "text"
      },
      "source": [
        "## Neural network model with visualization of loss and accuracy"
      ]
    },
    {
      "cell_type": "code",
      "metadata": {
        "id": "wQKqvDceVU_5",
        "colab_type": "code",
        "outputId": "49ef452e-9de3-4370-a629-aadcfbbfd4e3",
        "colab": {}
      },
      "source": [
        "from tensorflow.keras.layers import Flatten, Dense\n",
        "from tensorflow.keras.layers import Embedding\n",
        "\n",
        "\n",
        "model_embedding = Sequential()\n",
        "model_embedding.add(Embedding(1+X_all.max(),8,input_length=maxlen))\n",
        "model_embedding.add(Flatten())\n",
        "model_embedding.add(Dense(500,activation='sigmoid',kernel_regularizer=None))\n",
        "model_embedding.add(Dropout(0.5))\n",
        "model_embedding.add(Dense(500,activation='sigmoid',kernel_regularizer=None))\n",
        "model_embedding.add(Dropout(0.5))\n",
        "model_embedding.add(Dense(500,activation='sigmoid',kernel_regularizer=None))\n",
        "model_embedding.add(Dropout(0.5))\n",
        "model_embedding.add(Dense(100,activation='sigmoid',kernel_regularizer=None))\n",
        "model_embedding.add(Dropout(0.5))\n",
        "model_embedding.add(Dense(2))\n",
        "\n",
        "model_embedding.compile(optimizer='adam',loss='mae',metrics=['acc'])\n",
        "model_embedding.summary()\n",
        "history = model_embedding.fit(X_train,Y_train,epochs=10,batch_size=32,validation_data=(X_val,Y_val))\n",
        "\n",
        "loss = history.history['loss']\n",
        "val_loss = history.history['val_loss']\n",
        "\n",
        "epochs = range(1,len(loss)+1)\n",
        "\n",
        "plt.plot(epochs,loss,'bo',label='Training loss')\n",
        "plt.plot(epochs,val_loss,'b',label='Validation loss')\n",
        "plt.title('Training and validation loss')\n",
        "plt.xlabel('Epochs')\n",
        "plt.ylabel('Loss')\n",
        "plt.legend()\n",
        "plt.show()\n",
        "\n",
        "plt.figure()\n",
        "acc = history.history['acc']\n",
        "val_acc = history.history['val_acc']\n",
        "plt.plot(epochs, acc, 'bo', label='Training acc')\n",
        "plt.plot(epochs, val_acc, 'b', label='Validation acc')\n",
        "plt.title('Training and validation accuracy')\n",
        "plt.xlabel('Epochs')\n",
        "plt.ylabel('Acc')\n",
        "plt.legend()\n",
        "plt.show()"
      ],
      "execution_count": 0,
      "outputs": [
        {
          "output_type": "stream",
          "text": [
            "Model: \"sequential_9\"\n",
            "_________________________________________________________________\n",
            "Layer (type)                 Output Shape              Param #   \n",
            "=================================================================\n",
            "embedding_8 (Embedding)      (None, 20, 8)             41536     \n",
            "_________________________________________________________________\n",
            "flatten_8 (Flatten)          (None, 160)               0         \n",
            "_________________________________________________________________\n",
            "dense_46 (Dense)             (None, 500)               80500     \n",
            "_________________________________________________________________\n",
            "dropout_37 (Dropout)         (None, 500)               0         \n",
            "_________________________________________________________________\n",
            "dense_47 (Dense)             (None, 500)               250500    \n",
            "_________________________________________________________________\n",
            "dropout_38 (Dropout)         (None, 500)               0         \n",
            "_________________________________________________________________\n",
            "dense_48 (Dense)             (None, 500)               250500    \n",
            "_________________________________________________________________\n",
            "dropout_39 (Dropout)         (None, 500)               0         \n",
            "_________________________________________________________________\n",
            "dense_49 (Dense)             (None, 100)               50100     \n",
            "_________________________________________________________________\n",
            "dropout_40 (Dropout)         (None, 100)               0         \n",
            "_________________________________________________________________\n",
            "dense_50 (Dense)             (None, 2)                 202       \n",
            "=================================================================\n",
            "Total params: 673,338\n",
            "Trainable params: 673,338\n",
            "Non-trainable params: 0\n",
            "_________________________________________________________________\n",
            "Train on 4800 samples, validate on 1200 samples\n",
            "Epoch 1/10\n",
            "4800/4800 [==============================] - 2s 314us/sample - loss: 0.2224 - acc: 0.5483 - val_loss: 0.1144 - val_acc: 0.7100\n",
            "Epoch 2/10\n",
            "4800/4800 [==============================] - 1s 204us/sample - loss: 0.1491 - acc: 0.6133 - val_loss: 0.0916 - val_acc: 0.7100\n",
            "Epoch 3/10\n",
            "4800/4800 [==============================] - 1s 185us/sample - loss: 0.1367 - acc: 0.6681 - val_loss: 0.0986 - val_acc: 0.7100\n",
            "Epoch 4/10\n",
            "4800/4800 [==============================] - 1s 188us/sample - loss: 0.1298 - acc: 0.6690 - val_loss: 0.1003 - val_acc: 0.7100\n",
            "Epoch 5/10\n",
            "4800/4800 [==============================] - 1s 178us/sample - loss: 0.1229 - acc: 0.6806 - val_loss: 0.0934 - val_acc: 0.7100\n",
            "Epoch 6/10\n",
            "4800/4800 [==============================] - 1s 199us/sample - loss: 0.1188 - acc: 0.6933 - val_loss: 0.0908 - val_acc: 0.7100\n",
            "Epoch 7/10\n",
            "4800/4800 [==============================] - 1s 178us/sample - loss: 0.1136 - acc: 0.6894 - val_loss: 0.0942 - val_acc: 0.7100\n",
            "Epoch 8/10\n",
            "4800/4800 [==============================] - 1s 178us/sample - loss: 0.1082 - acc: 0.6977 - val_loss: 0.0892 - val_acc: 0.7100\n",
            "Epoch 9/10\n",
            "4800/4800 [==============================] - 1s 177us/sample - loss: 0.1015 - acc: 0.6977 - val_loss: 0.0882 - val_acc: 0.7100\n",
            "Epoch 10/10\n",
            "4800/4800 [==============================] - 1s 180us/sample - loss: 0.0967 - acc: 0.7025 - val_loss: 0.0858 - val_acc: 0.7100\n"
          ],
          "name": "stdout"
        },
        {
          "output_type": "display_data",
          "data": {
            "image/png": "[encoded data removed]",
            "text/plain": [
              "<Figure size 432x288 with 1 Axes>"
            ]
          },
          "metadata": {
            "tags": [],
            "needs_background": "light"
          }
        },
        {
          "output_type": "display_data",
          "data": {
            "image/png": "[encoded data removed]",
            "text/plain": [
              "<Figure size 432x288 with 1 Axes>"
            ]
          },
          "metadata": {
            "tags": [],
            "needs_background": "light"
          }
        }
      ]
    },
    {
      "cell_type": "code",
      "metadata": {
        "id": "_Af5uqX4VU_7",
        "colab_type": "code",
        "outputId": "cb129d72-af91-4ab6-ee9c-49af63e9a5d9",
        "colab": {}
      },
      "source": [
        "Yvector_pred = model_embedding.predict(X_val)\n",
        "Get_score(Yvector_pred, Y_val)\n"
      ],
      "execution_count": 0,
      "outputs": [
        {
          "output_type": "stream",
          "text": [
            "The Spearman's correlation coefficient is: 0.412\n",
            "The Spearman's correlation coefficient is: 0.204\n"
          ],
          "name": "stdout"
        }
      ]
    },
    {
      "cell_type": "code",
      "metadata": {
        "id": "mEVMLD58VU_8",
        "colab_type": "code",
        "colab": {}
      },
      "source": [
        "# model_embedding.save('./embedding.h5')"
      ],
      "execution_count": 0,
      "outputs": []
    },
    {
      "cell_type": "code",
      "metadata": {
        "id": "sH67UAi5VU_-",
        "colab_type": "code",
        "colab": {}
      },
      "source": [
        "embedding_prediction = Yvector_pred\n"
      ],
      "execution_count": 0,
      "outputs": []
    },
    {
      "cell_type": "markdown",
      "metadata": {
        "id": "Iy5LpXR_VVAA",
        "colab_type": "text"
      },
      "source": [
        "# C3D feature training"
      ]
    },
    {
      "cell_type": "code",
      "metadata": {
        "id": "1cYwAgtqVVAA",
        "colab_type": "code",
        "colab": {}
      },
      "source": [
        "# os.chdir('C:/Users/Reddy/Desktop/ml ass/testset/')\n",
        "c3df = os.listdir('C:/Users/Reddy/Desktop/ml ass/devset/')\n",
        "features_c3d = pd.DataFrame({'video': vid,\n",
        "                   'C3D': [read_C3D('./C3D/'+os.path.splitext(item)[0]+'.txt') for item in vid],\n",
        "                       })"
      ],
      "execution_count": 0,
      "outputs": []
    },
    {
      "cell_type": "code",
      "metadata": {
        "id": "bp9izsKlVVAD",
        "colab_type": "code",
        "outputId": "12266a9a-cad0-4a09-83b7-eec99c130f92",
        "colab": {}
      },
      "source": [
        "features_c3d.head()"
      ],
      "execution_count": 0,
      "outputs": [
        {
          "output_type": "execute_result",
          "data": {
            "text/html": [
              "<div>\n",
              "<style scoped>\n",
              "    .dataframe tbody tr th:only-of-type {\n",
              "        vertical-align: middle;\n",
              "    }\n",
              "\n",
              "    .dataframe tbody tr th {\n",
              "        vertical-align: top;\n",
              "    }\n",
              "\n",
              "    .dataframe thead th {\n",
              "        text-align: right;\n",
              "    }\n",
              "</style>\n",
              "<table border=\"1\" class=\"dataframe\">\n",
              "  <thead>\n",
              "    <tr style=\"text-align: right;\">\n",
              "      <th></th>\n",
              "      <th>video</th>\n",
              "      <th>C3D</th>\n",
              "    </tr>\n",
              "  </thead>\n",
              "  <tbody>\n",
              "    <tr>\n",
              "      <td>0</td>\n",
              "      <td>video3.webm</td>\n",
              "      <td>[0.02024942, 0.0015778, 0.00082625, 0.00094509...</td>\n",
              "    </tr>\n",
              "    <tr>\n",
              "      <td>1</td>\n",
              "      <td>video4.webm</td>\n",
              "      <td>[0.000118, 0.00089075, 0.00018769, 4.543e-05, ...</td>\n",
              "    </tr>\n",
              "    <tr>\n",
              "      <td>2</td>\n",
              "      <td>video6.webm</td>\n",
              "      <td>[0.01176522, 0.00074577, 0.00078353, 1.328e-05...</td>\n",
              "    </tr>\n",
              "    <tr>\n",
              "      <td>3</td>\n",
              "      <td>video8.webm</td>\n",
              "      <td>[0.00022343, 0.00016499, 7.35e-06, 1.615e-05, ...</td>\n",
              "    </tr>\n",
              "    <tr>\n",
              "      <td>4</td>\n",
              "      <td>video10.webm</td>\n",
              "      <td>[9.006e-05, 0.00061494, 0.00343634, 0.00128092...</td>\n",
              "    </tr>\n",
              "  </tbody>\n",
              "</table>\n",
              "</div>"
            ],
            "text/plain": [
              "          video                                                C3D\n",
              "0   video3.webm  [0.02024942, 0.0015778, 0.00082625, 0.00094509...\n",
              "1   video4.webm  [0.000118, 0.00089075, 0.00018769, 4.543e-05, ...\n",
              "2   video6.webm  [0.01176522, 0.00074577, 0.00078353, 1.328e-05...\n",
              "3   video8.webm  [0.00022343, 0.00016499, 7.35e-06, 1.615e-05, ...\n",
              "4  video10.webm  [9.006e-05, 0.00061494, 0.00343634, 0.00128092..."
            ]
          },
          "metadata": {
            "tags": []
          },
          "execution_count": 183
        }
      ]
    },
    {
      "cell_type": "code",
      "metadata": {
        "id": "PFv6_GHwVVAF",
        "colab_type": "code",
        "colab": {}
      },
      "source": [
        "X = np.stack(features_c3d['C3D'].values)\n",
        "Y = labels[['short-term_memorability','long-term_memorability']].values"
      ],
      "execution_count": 0,
      "outputs": []
    },
    {
      "cell_type": "code",
      "metadata": {
        "id": "nnFMr7t6VVAG",
        "colab_type": "code",
        "outputId": "0e7d2088-dfae-4f09-aa94-8208d1f49f9f",
        "colab": {}
      },
      "source": [
        "print(X.shape)\n",
        "print(Y.shape)"
      ],
      "execution_count": 0,
      "outputs": [
        {
          "output_type": "stream",
          "text": [
            "(6000, 101)\n",
            "(6000, 2)\n"
          ],
          "name": "stdout"
        }
      ]
    },
    {
      "cell_type": "markdown",
      "metadata": {
        "id": "kgH4yit0VVAI",
        "colab_type": "text"
      },
      "source": [
        " ## Model with alternating relu and signmoid activation fuctions and sigmoid layer in output to restric the values between[0,1]"
      ]
    },
    {
      "cell_type": "code",
      "metadata": {
        "id": "EWQbq4LwVVAI",
        "colab_type": "code",
        "outputId": "9fddc218-a506-4d76-a4df-6e54fd882dde",
        "colab": {}
      },
      "source": [
        "X_train, X_val, Y_train, Y_val = train_test_split(X,Y, test_size=0.2, random_state=42)\n",
        "modelc3d = Sequential()\n",
        "modelc3d.add(Dense(500,activation='relu', kernel_regularizer=None,input_shape=(X.shape[1],)))\n",
        "modelc3d.add(Dropout(0.40))\n",
        "modelc3d.add(Dense(500,activation='sigmoid', kernel_regularizer=None))\n",
        "modelc3d.add(Dropout(0.40))\n",
        "modelc3d.add(Dense(500,activation='relu', kernel_regularizer=None))\n",
        "modelc3d.add(Dropout(0.40))\n",
        "modelc3d.add(Dense(60,activation='sigmoid',kernel_regularizer=None))\n",
        "modelc3d.add(Dropout(0.25))\n",
        "modelc3d.add(Dense(2))\n",
        "modelc3d.summary()"
      ],
      "execution_count": 0,
      "outputs": [
        {
          "output_type": "stream",
          "text": [
            "Model: \"sequential_13\"\n",
            "_________________________________________________________________\n",
            "Layer (type)                 Output Shape              Param #   \n",
            "=================================================================\n",
            "dense_66 (Dense)             (None, 500)               51000     \n",
            "_________________________________________________________________\n",
            "dropout_53 (Dropout)         (None, 500)               0         \n",
            "_________________________________________________________________\n",
            "dense_67 (Dense)             (None, 500)               250500    \n",
            "_________________________________________________________________\n",
            "dropout_54 (Dropout)         (None, 500)               0         \n",
            "_________________________________________________________________\n",
            "dense_68 (Dense)             (None, 500)               250500    \n",
            "_________________________________________________________________\n",
            "dropout_55 (Dropout)         (None, 500)               0         \n",
            "_________________________________________________________________\n",
            "dense_69 (Dense)             (None, 60)                30060     \n",
            "_________________________________________________________________\n",
            "dropout_56 (Dropout)         (None, 60)                0         \n",
            "_________________________________________________________________\n",
            "dense_70 (Dense)             (None, 2)                 122       \n",
            "=================================================================\n",
            "Total params: 582,182\n",
            "Trainable params: 582,182\n",
            "Non-trainable params: 0\n",
            "_________________________________________________________________\n"
          ],
          "name": "stdout"
        }
      ]
    },
    {
      "cell_type": "markdown",
      "metadata": {
        "id": "PFgLsBMIVVAJ",
        "colab_type": "text"
      },
      "source": [
        "Compiling the model with adam and mean square error as optimizer and loss metric. we can see that there is no overfitting of the data."
      ]
    },
    {
      "cell_type": "code",
      "metadata": {
        "id": "Q-xkV_CUVVAJ",
        "colab_type": "code",
        "outputId": "792099a6-bb37-4689-8af9-ca97bc501ba8",
        "colab": {}
      },
      "source": [
        "modelc3d.compile(optimizer='adam',loss=['mse'],metrics=['acc'])\n",
        "history_c3d=modelc3d.fit(x=X_train,y=Y_train,epochs=26,validation_data=(X_val,Y_val),shuffle=True,verbose=True)"
      ],
      "execution_count": 0,
      "outputs": [
        {
          "output_type": "stream",
          "text": [
            "Train on 4800 samples, validate on 1200 samples\n",
            "Epoch 1/26\n",
            "4800/4800 [==============================] - 3s 603us/sample - loss: 0.0701 - acc: 0.5638 - val_loss: 0.0191 - val_acc: 0.7100\n",
            "Epoch 2/26\n",
            "4800/4800 [==============================] - 2s 349us/sample - loss: 0.0324 - acc: 0.6142 - val_loss: 0.0139 - val_acc: 0.7100\n",
            "Epoch 3/26\n",
            "4800/4800 [==============================] - 2s 381us/sample - loss: 0.0294 - acc: 0.6342 - val_loss: 0.0138 - val_acc: 0.7100\n",
            "Epoch 4/26\n",
            "4800/4800 [==============================] - 2s 337us/sample - loss: 0.0268 - acc: 0.6592 - val_loss: 0.0169 - val_acc: 0.7100\n",
            "Epoch 5/26\n",
            "4800/4800 [==============================] - 2s 418us/sample - loss: 0.0247 - acc: 0.6650 - val_loss: 0.0159 - val_acc: 0.7100\n",
            "Epoch 6/26\n",
            "4800/4800 [==============================] - 2s 363us/sample - loss: 0.0229 - acc: 0.6823 - val_loss: 0.0142 - val_acc: 0.7100\n",
            "Epoch 7/26\n",
            "4800/4800 [==============================] - 2s 348us/sample - loss: 0.0218 - acc: 0.6885 - val_loss: 0.0149 - val_acc: 0.7100\n",
            "Epoch 8/26\n",
            "4800/4800 [==============================] - 1s 297us/sample - loss: 0.0210 - acc: 0.6921 - val_loss: 0.0150 - val_acc: 0.7100\n",
            "Epoch 9/26\n",
            "4800/4800 [==============================] - 1s 310us/sample - loss: 0.0202 - acc: 0.6965 - val_loss: 0.0137 - val_acc: 0.7100\n",
            "Epoch 10/26\n",
            "4800/4800 [==============================] - 2s 317us/sample - loss: 0.0187 - acc: 0.6950 - val_loss: 0.0143 - val_acc: 0.7100\n",
            "Epoch 11/26\n",
            "4800/4800 [==============================] - 1s 299us/sample - loss: 0.0184 - acc: 0.7000 - val_loss: 0.0137 - val_acc: 0.7100\n",
            "Epoch 12/26\n",
            "4800/4800 [==============================] - 1s 267us/sample - loss: 0.0176 - acc: 0.7010 - val_loss: 0.0138 - val_acc: 0.7100\n",
            "Epoch 13/26\n",
            "4800/4800 [==============================] - 2s 326us/sample - loss: 0.0164 - acc: 0.7023 - val_loss: 0.0137 - val_acc: 0.7100\n",
            "Epoch 14/26\n",
            "4800/4800 [==============================] - 2s 315us/sample - loss: 0.0161 - acc: 0.7025 - val_loss: 0.0136 - val_acc: 0.7100\n",
            "Epoch 15/26\n",
            "4800/4800 [==============================] - 1s 287us/sample - loss: 0.0161 - acc: 0.7025 - val_loss: 0.0141 - val_acc: 0.7100\n",
            "Epoch 16/26\n",
            "4800/4800 [==============================] - 1s 258us/sample - loss: 0.0155 - acc: 0.7035 - val_loss: 0.0136 - val_acc: 0.7100\n",
            "Epoch 17/26\n",
            "4800/4800 [==============================] - 1s 309us/sample - loss: 0.0151 - acc: 0.7033 - val_loss: 0.0137 - val_acc: 0.7100\n",
            "Epoch 18/26\n",
            "4800/4800 [==============================] - 2s 327us/sample - loss: 0.0148 - acc: 0.7035 - val_loss: 0.0137 - val_acc: 0.7100\n",
            "Epoch 19/26\n",
            "4800/4800 [==============================] - 2s 343us/sample - loss: 0.0146 - acc: 0.7035 - val_loss: 0.0137 - val_acc: 0.7100\n",
            "Epoch 20/26\n",
            "4800/4800 [==============================] - 1s 308us/sample - loss: 0.0143 - acc: 0.7033 - val_loss: 0.0137 - val_acc: 0.7100\n",
            "Epoch 21/26\n",
            "4800/4800 [==============================] - 1s 312us/sample - loss: 0.0141 - acc: 0.7031 - val_loss: 0.0136 - val_acc: 0.7100\n",
            "Epoch 22/26\n",
            "4800/4800 [==============================] - 2s 341us/sample - loss: 0.0140 - acc: 0.7035 - val_loss: 0.0136 - val_acc: 0.7100\n",
            "Epoch 23/26\n",
            "4800/4800 [==============================] - 2s 351us/sample - loss: 0.0137 - acc: 0.7035 - val_loss: 0.0136 - val_acc: 0.7100\n",
            "Epoch 24/26\n",
            "4800/4800 [==============================] - 2s 362us/sample - loss: 0.0138 - acc: 0.7038 - val_loss: 0.0137 - val_acc: 0.7100\n",
            "Epoch 25/26\n",
            "4800/4800 [==============================] - 2s 319us/sample - loss: 0.0136 - acc: 0.7035 - val_loss: 0.0138 - val_acc: 0.7100\n",
            "Epoch 26/26\n",
            "4800/4800 [==============================] - 2s 318us/sample - loss: 0.0136 - acc: 0.7035 - val_loss: 0.0136 - val_acc: 0.7100\n"
          ],
          "name": "stdout"
        }
      ]
    },
    {
      "cell_type": "code",
      "metadata": {
        "id": "vldA5XRxVVAL",
        "colab_type": "code",
        "outputId": "790157d8-4eda-44ce-cfa7-e5d3cc84076d",
        "colab": {}
      },
      "source": [
        "loss = history_c3d.history['loss']\n",
        "val_loss = history_c3d.history['val_loss']\n",
        "\n",
        "epochs = range(1,len(loss)+1)\n",
        "\n",
        "plt.figure()\n",
        "plt.plot(epochs,loss,'bo',label='Training loss')\n",
        "plt.plot(epochs,val_loss,'b',label='Validation loss')\n",
        "plt.title('Training and validation loss')\n",
        "plt.xlabel('Epochs')\n",
        "plt.ylabel('Loss')\n",
        "plt.legend()\n",
        "plt.show()\n",
        "\n",
        "plt.figure()"
      ],
      "execution_count": 0,
      "outputs": [
        {
          "output_type": "display_data",
          "data": {
            "image/png": "[encoded data removed]",
            "text/plain": [
              "<Figure size 432x288 with 1 Axes>"
            ]
          },
          "metadata": {
            "tags": [],
            "needs_background": "light"
          }
        },
        {
          "output_type": "execute_result",
          "data": {
            "text/plain": [
              "<Figure size 432x288 with 0 Axes>"
            ]
          },
          "metadata": {
            "tags": []
          },
          "execution_count": 199
        },
        {
          "output_type": "display_data",
          "data": {
            "text/plain": [
              "<Figure size 432x288 with 0 Axes>"
            ]
          },
          "metadata": {
            "tags": []
          }
        }
      ]
    },
    {
      "cell_type": "code",
      "metadata": {
        "id": "1NNEgc7uVVAM",
        "colab_type": "code",
        "colab": {}
      },
      "source": [
        "Y_pred = modelc3d.predict(X_val)\n"
      ],
      "execution_count": 0,
      "outputs": []
    },
    {
      "cell_type": "code",
      "metadata": {
        "id": "SmsxqC6XVVAO",
        "colab_type": "code",
        "outputId": "d1671620-63ec-4bc8-d82c-c44d4d466e10",
        "colab": {}
      },
      "source": [
        "Get_score(Y_pred,Y_val)\n"
      ],
      "execution_count": 0,
      "outputs": [
        {
          "output_type": "stream",
          "text": [
            "The Spearman's correlation coefficient is: 0.275\n",
            "The Spearman's correlation coefficient is: 0.124\n"
          ],
          "name": "stdout"
        }
      ]
    },
    {
      "cell_type": "code",
      "metadata": {
        "id": "b8gFdq4TVVAP",
        "colab_type": "code",
        "outputId": "606c4d5a-a098-43d0-94cf-ab6499078017",
        "colab": {}
      },
      "source": [
        "pwd"
      ],
      "execution_count": 0,
      "outputs": [
        {
          "output_type": "execute_result",
          "data": {
            "text/plain": [
              "'C:\\\\Users\\\\Reddy\\\\Desktop\\\\ml ass\\\\devset'"
            ]
          },
          "metadata": {
            "tags": []
          },
          "execution_count": 252
        }
      ]
    },
    {
      "cell_type": "code",
      "metadata": {
        "id": "tR4kKtHzVVAQ",
        "colab_type": "code",
        "colab": {}
      },
      "source": [
        "c3d_prediction = Y_pred\n",
        "# modelc3d.save('./c3d.h5')"
      ],
      "execution_count": 0,
      "outputs": []
    },
    {
      "cell_type": "code",
      "metadata": {
        "id": "aDOUIgk9VVAT",
        "colab_type": "code",
        "colab": {}
      },
      "source": [
        "ensemble=(c3d_prediction+embedding_prediction+cap_pred+hmp_prediction)/4"
      ],
      "execution_count": 0,
      "outputs": []
    },
    {
      "cell_type": "code",
      "metadata": {
        "id": "X2VIv0uZVVAU",
        "colab_type": "code",
        "outputId": "2b60e4e8-7235-4390-f52f-1550cc065658",
        "colab": {}
      },
      "source": [
        "Get_score(ensemble,Y_val)\n"
      ],
      "execution_count": 0,
      "outputs": [
        {
          "output_type": "stream",
          "text": [
            "The Spearman's correlation coefficient is: 0.457\n",
            "The Spearman's correlation coefficient is: 0.221\n"
          ],
          "name": "stdout"
        }
      ]
    },
    {
      "cell_type": "markdown",
      "metadata": {
        "id": "-TFURGGvVVAW",
        "colab_type": "text"
      },
      "source": [
        "#Predictions on test set"
      ]
    },
    {
      "cell_type": "markdown",
      "metadata": {
        "id": "AOC_eiUyVVAW",
        "colab_type": "text"
      },
      "source": [
        "loading ground truth test"
      ]
    },
    {
      "cell_type": "code",
      "metadata": {
        "id": "qgiKLX7kVVAW",
        "colab_type": "code",
        "outputId": "5f38dedf-0409-4aad-da63-059a37dd07be",
        "colab": {}
      },
      "source": [
        "labels_test=pd.read_csv('C:/Users/Reddy/Desktop/ml ass/testset/ground_truth_template.csv')\n",
        "labels_test.head()"
      ],
      "execution_count": 0,
      "outputs": [
        {
          "output_type": "execute_result",
          "data": {
            "text/html": [
              "<div>\n",
              "<style scoped>\n",
              "    .dataframe tbody tr th:only-of-type {\n",
              "        vertical-align: middle;\n",
              "    }\n",
              "\n",
              "    .dataframe tbody tr th {\n",
              "        vertical-align: top;\n",
              "    }\n",
              "\n",
              "    .dataframe thead th {\n",
              "        text-align: right;\n",
              "    }\n",
              "</style>\n",
              "<table border=\"1\" class=\"dataframe\">\n",
              "  <thead>\n",
              "    <tr style=\"text-align: right;\">\n",
              "      <th></th>\n",
              "      <th>video</th>\n",
              "      <th>short-term_memorability</th>\n",
              "      <th>nb_short-term_annotations</th>\n",
              "      <th>long-term_memorability</th>\n",
              "      <th>nb_long-term_annotations</th>\n",
              "    </tr>\n",
              "  </thead>\n",
              "  <tbody>\n",
              "    <tr>\n",
              "      <td>0</td>\n",
              "      <td>7494</td>\n",
              "      <td>NaN</td>\n",
              "      <td>33</td>\n",
              "      <td>NaN</td>\n",
              "      <td>12</td>\n",
              "    </tr>\n",
              "    <tr>\n",
              "      <td>1</td>\n",
              "      <td>7495</td>\n",
              "      <td>NaN</td>\n",
              "      <td>34</td>\n",
              "      <td>NaN</td>\n",
              "      <td>10</td>\n",
              "    </tr>\n",
              "    <tr>\n",
              "      <td>2</td>\n",
              "      <td>7496</td>\n",
              "      <td>NaN</td>\n",
              "      <td>32</td>\n",
              "      <td>NaN</td>\n",
              "      <td>13</td>\n",
              "    </tr>\n",
              "    <tr>\n",
              "      <td>3</td>\n",
              "      <td>7497</td>\n",
              "      <td>NaN</td>\n",
              "      <td>33</td>\n",
              "      <td>NaN</td>\n",
              "      <td>10</td>\n",
              "    </tr>\n",
              "    <tr>\n",
              "      <td>4</td>\n",
              "      <td>7498</td>\n",
              "      <td>NaN</td>\n",
              "      <td>33</td>\n",
              "      <td>NaN</td>\n",
              "      <td>10</td>\n",
              "    </tr>\n",
              "  </tbody>\n",
              "</table>\n",
              "</div>"
            ],
            "text/plain": [
              "   video  short-term_memorability  nb_short-term_annotations  \\\n",
              "0   7494                      NaN                         33   \n",
              "1   7495                      NaN                         34   \n",
              "2   7496                      NaN                         32   \n",
              "3   7497                      NaN                         33   \n",
              "4   7498                      NaN                         33   \n",
              "\n",
              "   long-term_memorability  nb_long-term_annotations  \n",
              "0                     NaN                        12  \n",
              "1                     NaN                        10  \n",
              "2                     NaN                        13  \n",
              "3                     NaN                        10  \n",
              "4                     NaN                        10  "
            ]
          },
          "metadata": {
            "tags": []
          },
          "execution_count": 258
        }
      ]
    },
    {
      "cell_type": "code",
      "metadata": {
        "id": "49JfMzZAVVAY",
        "colab_type": "code",
        "outputId": "93258d2b-cb4d-467c-99d1-7f1ada6cb7e9",
        "colab": {}
      },
      "source": [
        "vid = labels_test.video.values\n",
        "len(vid)"
      ],
      "execution_count": 0,
      "outputs": [
        {
          "output_type": "execute_result",
          "data": {
            "text/plain": [
              "2000"
            ]
          },
          "metadata": {
            "tags": []
          },
          "execution_count": 401
        }
      ]
    },
    {
      "cell_type": "markdown",
      "metadata": {
        "id": "uD40Ta2tVVAa",
        "colab_type": "text"
      },
      "source": [
        "##C3D Prediction"
      ]
    },
    {
      "cell_type": "code",
      "metadata": {
        "id": "cEoO2hmxVVAa",
        "colab_type": "code",
        "colab": {}
      },
      "source": [
        "os.chdir('C:/Users/Reddy/Desktop/ml ass/testset/')\n",
        "c3d_test = pd.DataFrame({'video': vid,\n",
        "                   'C3D': [read_C3D('./C3D_test/video'+str(item)+'.txt') for item in vid],\n",
        "                       })"
      ],
      "execution_count": 0,
      "outputs": []
    },
    {
      "cell_type": "code",
      "metadata": {
        "id": "QmGqXc8ZVVAb",
        "colab_type": "code",
        "outputId": "fa0379f3-2578-4292-ea9e-d4dd636494ca",
        "colab": {}
      },
      "source": [
        "c3d_test.head()"
      ],
      "execution_count": 0,
      "outputs": [
        {
          "output_type": "execute_result",
          "data": {
            "text/html": [
              "<div>\n",
              "<style scoped>\n",
              "    .dataframe tbody tr th:only-of-type {\n",
              "        vertical-align: middle;\n",
              "    }\n",
              "\n",
              "    .dataframe tbody tr th {\n",
              "        vertical-align: top;\n",
              "    }\n",
              "\n",
              "    .dataframe thead th {\n",
              "        text-align: right;\n",
              "    }\n",
              "</style>\n",
              "<table border=\"1\" class=\"dataframe\">\n",
              "  <thead>\n",
              "    <tr style=\"text-align: right;\">\n",
              "      <th></th>\n",
              "      <th>video</th>\n",
              "      <th>C3D</th>\n",
              "    </tr>\n",
              "  </thead>\n",
              "  <tbody>\n",
              "    <tr>\n",
              "      <td>0</td>\n",
              "      <td>7494</td>\n",
              "      <td>[0.00013576, 0.0002133, 0.00124759, 1.149e-05,...</td>\n",
              "    </tr>\n",
              "    <tr>\n",
              "      <td>1</td>\n",
              "      <td>7495</td>\n",
              "      <td>[0.00012659, 2.377e-05, 0.04950115, 2.418e-05,...</td>\n",
              "    </tr>\n",
              "    <tr>\n",
              "      <td>2</td>\n",
              "      <td>7496</td>\n",
              "      <td>[0.48898152, 0.00058536, 2.454e-05, 0.00016031...</td>\n",
              "    </tr>\n",
              "    <tr>\n",
              "      <td>3</td>\n",
              "      <td>7497</td>\n",
              "      <td>[0.24925078, 0.00101763, 8.02e-06, 1.92e-05, 2...</td>\n",
              "    </tr>\n",
              "    <tr>\n",
              "      <td>4</td>\n",
              "      <td>7498</td>\n",
              "      <td>[0.00989415, 3.413e-05, 0.00261261, 2.1e-06, 1...</td>\n",
              "    </tr>\n",
              "  </tbody>\n",
              "</table>\n",
              "</div>"
            ],
            "text/plain": [
              "   video                                                C3D\n",
              "0   7494  [0.00013576, 0.0002133, 0.00124759, 1.149e-05,...\n",
              "1   7495  [0.00012659, 2.377e-05, 0.04950115, 2.418e-05,...\n",
              "2   7496  [0.48898152, 0.00058536, 2.454e-05, 0.00016031...\n",
              "3   7497  [0.24925078, 0.00101763, 8.02e-06, 1.92e-05, 2...\n",
              "4   7498  [0.00989415, 3.413e-05, 0.00261261, 2.1e-06, 1..."
            ]
          },
          "metadata": {
            "tags": []
          },
          "execution_count": 261
        }
      ]
    },
    {
      "cell_type": "markdown",
      "metadata": {
        "id": "pNzpaCYBVVAc",
        "colab_type": "text"
      },
      "source": [
        "predicting "
      ]
    },
    {
      "cell_type": "code",
      "metadata": {
        "id": "zLqUwDl8VVAc",
        "colab_type": "code",
        "colab": {}
      },
      "source": [
        "X_testc3d = np.stack(c3d_test['C3D'].values)"
      ],
      "execution_count": 0,
      "outputs": []
    },
    {
      "cell_type": "code",
      "metadata": {
        "id": "MifO7OxnVVAe",
        "colab_type": "code",
        "colab": {}
      },
      "source": [
        "c3d_test_prediction = modelc3d.predict(X_testc3d)"
      ],
      "execution_count": 0,
      "outputs": []
    },
    {
      "cell_type": "code",
      "metadata": {
        "id": "UeZvDEtqVVAi",
        "colab_type": "code",
        "outputId": "3e23ccd9-8225-49d3-9204-885ffc03b1ac",
        "colab": {}
      },
      "source": [
        "c3d_test_prediction"
      ],
      "execution_count": 0,
      "outputs": [
        {
          "output_type": "execute_result",
          "data": {
            "text/plain": [
              "array([[0.85780954, 0.77357334],\n",
              "       [0.83426344, 0.7426296 ],\n",
              "       [0.8692305 , 0.78771037],\n",
              "       ...,\n",
              "       [0.8772079 , 0.7969385 ],\n",
              "       [0.8396399 , 0.75000954],\n",
              "       [0.90084934, 0.82096237]], dtype=float32)"
            ]
          },
          "metadata": {
            "tags": []
          },
          "execution_count": 274
        }
      ]
    },
    {
      "cell_type": "markdown",
      "metadata": {
        "id": "x5LmSKL6VVAk",
        "colab_type": "text"
      },
      "source": [
        "## HMP prediction"
      ]
    },
    {
      "cell_type": "markdown",
      "metadata": {
        "id": "zqhX8ShVVVAk",
        "colab_type": "text"
      },
      "source": [
        "load hmp test values"
      ]
    },
    {
      "cell_type": "code",
      "metadata": {
        "id": "GY-ESH8nVVAk",
        "colab_type": "code",
        "outputId": "83e02ed7-74c6-462a-aa3d-a774aceb2049",
        "colab": {}
      },
      "source": [
        "hmp_test = pd.DataFrame({'video': vid, 'HMP': [read_HMP('./HMP_test/video'+str(item)+'.txt') for item in vid]})\n",
        "hmp_test.head()"
      ],
      "execution_count": 0,
      "outputs": [
        {
          "output_type": "execute_result",
          "data": {
            "text/html": [
              "<div>\n",
              "<style scoped>\n",
              "    .dataframe tbody tr th:only-of-type {\n",
              "        vertical-align: middle;\n",
              "    }\n",
              "\n",
              "    .dataframe tbody tr th {\n",
              "        vertical-align: top;\n",
              "    }\n",
              "\n",
              "    .dataframe thead th {\n",
              "        text-align: right;\n",
              "    }\n",
              "</style>\n",
              "<table border=\"1\" class=\"dataframe\">\n",
              "  <thead>\n",
              "    <tr style=\"text-align: right;\">\n",
              "      <th></th>\n",
              "      <th>video</th>\n",
              "      <th>HMP</th>\n",
              "    </tr>\n",
              "  </thead>\n",
              "  <tbody>\n",
              "    <tr>\n",
              "      <td>0</td>\n",
              "      <td>7494</td>\n",
              "      <td>[0.022039, 0.005264, 9.8e-05, 0.0, 0.003689, 0...</td>\n",
              "    </tr>\n",
              "    <tr>\n",
              "      <td>1</td>\n",
              "      <td>7495</td>\n",
              "      <td>[0.004694, 0.001934, 4e-05, 0.0, 0.001226, 5.8...</td>\n",
              "    </tr>\n",
              "    <tr>\n",
              "      <td>2</td>\n",
              "      <td>7496</td>\n",
              "      <td>[0.02653, 0.006208, 5.8e-05, 0.0, 0.00228, 3.1...</td>\n",
              "    </tr>\n",
              "    <tr>\n",
              "      <td>3</td>\n",
              "      <td>7497</td>\n",
              "      <td>[0.045109, 0.008317, 0.000151, 0.0, 0.005598, ...</td>\n",
              "    </tr>\n",
              "    <tr>\n",
              "      <td>4</td>\n",
              "      <td>7498</td>\n",
              "      <td>[0.034691, 0.008619, 0.000412, 0.0, 0.028355, ...</td>\n",
              "    </tr>\n",
              "  </tbody>\n",
              "</table>\n",
              "</div>"
            ],
            "text/plain": [
              "   video                                                HMP\n",
              "0   7494  [0.022039, 0.005264, 9.8e-05, 0.0, 0.003689, 0...\n",
              "1   7495  [0.004694, 0.001934, 4e-05, 0.0, 0.001226, 5.8...\n",
              "2   7496  [0.02653, 0.006208, 5.8e-05, 0.0, 0.00228, 3.1...\n",
              "3   7497  [0.045109, 0.008317, 0.000151, 0.0, 0.005598, ...\n",
              "4   7498  [0.034691, 0.008619, 0.000412, 0.0, 0.028355, ..."
            ]
          },
          "metadata": {
            "tags": []
          },
          "execution_count": 277
        }
      ]
    },
    {
      "cell_type": "code",
      "metadata": {
        "id": "Mkfpz0VTVVAm",
        "colab_type": "code",
        "colab": {}
      },
      "source": [
        " X_test = np.stack(test_hmp['HMP'].values)"
      ],
      "execution_count": 0,
      "outputs": []
    },
    {
      "cell_type": "code",
      "metadata": {
        "id": "gZs3_VuTVVAp",
        "colab_type": "code",
        "colab": {}
      },
      "source": [
        "hmp_test_prediction = model_hmp.predict(X_test)"
      ],
      "execution_count": 0,
      "outputs": []
    },
    {
      "cell_type": "code",
      "metadata": {
        "id": "cLvzruwtVVAq",
        "colab_type": "code",
        "outputId": "61cc17fb-9b99-4ee1-df65-c10d0a9edbab",
        "colab": {}
      },
      "source": [
        "hmp_test_prediction"
      ],
      "execution_count": 0,
      "outputs": [
        {
          "output_type": "execute_result",
          "data": {
            "text/plain": [
              "array([[0.86854255, 0.7935318 ],\n",
              "       [0.8736418 , 0.79909223],\n",
              "       [0.8710661 , 0.7960397 ],\n",
              "       ...,\n",
              "       [0.8733044 , 0.79835105],\n",
              "       [0.86733085, 0.79250723],\n",
              "       [0.87313414, 0.79829   ]], dtype=float32)"
            ]
          },
          "metadata": {
            "tags": []
          },
          "execution_count": 280
        }
      ]
    },
    {
      "cell_type": "markdown",
      "metadata": {
        "id": "-CUgLo-3VVAr",
        "colab_type": "text"
      },
      "source": [
        "##  captions with count vectorizer prediction"
      ]
    },
    {
      "cell_type": "code",
      "metadata": {
        "id": "xczPZa4WVVAs",
        "colab_type": "code",
        "colab": {}
      },
      "source": [
        "Y_test=labels_test[['short-term_memorability','long-term_memorability']].values  #targets\n",
        "X_test=X_test"
      ],
      "execution_count": 0,
      "outputs": []
    },
    {
      "cell_type": "code",
      "metadata": {
        "id": "7RKDHzBQVVAt",
        "colab_type": "code",
        "outputId": "30227f38-b790-437f-9028-75909d694df6",
        "colab": {}
      },
      "source": [
        "Y.shape"
      ],
      "execution_count": 0,
      "outputs": [
        {
          "output_type": "execute_result",
          "data": {
            "text/plain": [
              "(6000, 2)"
            ]
          },
          "metadata": {
            "tags": []
          },
          "execution_count": 458
        }
      ]
    },
    {
      "cell_type": "code",
      "metadata": {
        "id": "JwThCDJuVVAu",
        "colab_type": "code",
        "outputId": "c6b24f3a-296f-410d-e956-327c98ab2e7f",
        "colab": {}
      },
      "source": [
        "n_cols_test = X_test.shape[1]\n",
        "n_cols"
      ],
      "execution_count": 0,
      "outputs": [
        {
          "output_type": "execute_result",
          "data": {
            "text/plain": [
              "5691"
            ]
          },
          "metadata": {
            "tags": []
          },
          "execution_count": 459
        }
      ]
    },
    {
      "cell_type": "code",
      "metadata": {
        "id": "Mr16dGF5VVAw",
        "colab_type": "code",
        "colab": {}
      },
      "source": [
        "cap_prediction=model_cap.predict(X_test)"
      ],
      "execution_count": 0,
      "outputs": []
    },
    {
      "cell_type": "code",
      "metadata": {
        "id": "Rhd_PpJhVVAx",
        "colab_type": "code",
        "outputId": "bb8d3fe0-abb1-46d4-8139-2980bc7e9fd6",
        "colab": {}
      },
      "source": [
        "cap_prediction"
      ],
      "execution_count": 0,
      "outputs": [
        {
          "output_type": "execute_result",
          "data": {
            "text/plain": [
              "array([[0.78892696, 0.7202976 ],\n",
              "       [0.78904   , 0.7203855 ],\n",
              "       [0.89268595, 0.82332766],\n",
              "       ...,\n",
              "       [0.8688047 , 0.7981838 ],\n",
              "       [0.8804885 , 0.8103782 ],\n",
              "       [0.9007532 , 0.832031  ]], dtype=float32)"
            ]
          },
          "metadata": {
            "tags": []
          },
          "execution_count": 461
        }
      ]
    },
    {
      "cell_type": "markdown",
      "metadata": {
        "id": "mdmlB8smWqwh",
        "colab_type": "text"
      },
      "source": [
        "## Captions with embedding Prediction"
      ]
    },
    {
      "cell_type": "markdown",
      "metadata": {
        "id": "CJoXOHMAVVAy",
        "colab_type": "text"
      },
      "source": [
        "Preprocessing of captions with for embedding prediction test. The preprocessing is done again to make sure that no problems encounter during padding and for cross verification. You can exclude this preprocessig step. It is completely optional."
      ]
    },
    {
      "cell_type": "code",
      "metadata": {
        "id": "wJb2zyY2VVAy",
        "colab_type": "code",
        "outputId": "e5caa1bc-3e9c-4ee4-d42c-fad336e6cd26",
        "colab": {}
      },
      "source": [
        "#setup the counter to check the progress\n",
        "counts = Counter()\n",
        "# setup prograss tracker\n",
        "pbar = pyprind.ProgBar(len(df_captions_test['caption']), title='Counting word occurrences')\n",
        "for i, cap in enumerate(df_captions_test['caption']):\n",
        "    # replace punctuations with space\n",
        "    # convert words to lower case \n",
        "    text = ''.join([c if c not in punctuation else ' ' for c in cap]).lower()\n",
        "    df_cap_test.loc[i,'caption'] =  text\n",
        "    pbar.update()\n",
        "    counts.update(text.split())"
      ],
      "execution_count": 0,
      "outputs": [
        {
          "output_type": "stream",
          "text": [
            "Counting word occurrences\n",
            "0% [##############################] 100% | ETA: 00:00:00\n",
            "Total time elapsed: 00:00:01\n"
          ],
          "name": "stderr"
        }
      ]
    },
    {
      "cell_type": "code",
      "metadata": {
        "id": "v2TzEfc0VVA0",
        "colab_type": "code",
        "colab": {}
      },
      "source": [
        "len_test=np.zeros(len(df_captions_test))\n",
        "for ii in range(len(df_captions_test)):\n",
        "    text = df_captions_test.caption[ii]\n",
        "    test_len[ii]=len(text.split())"
      ],
      "execution_count": 0,
      "outputs": []
    },
    {
      "cell_type": "code",
      "metadata": {
        "id": "28OCrfANVVA1",
        "colab_type": "code",
        "colab": {}
      },
      "source": [
        "maxlen_test = int(max(test_len))"
      ],
      "execution_count": 0,
      "outputs": []
    },
    {
      "cell_type": "code",
      "metadata": {
        "id": "kCZ9gGpYVVA2",
        "colab_type": "code",
        "colab": {}
      },
      "source": [
        "from sklearn import preprocessing\n",
        "\n",
        "# build the word index\n",
        "len_token = len(counts)\n",
        "tokenizer = Tokenizer(num_words=len_token)\n",
        "tokenizer.fit_on_texts(list(df_captions_test.caption.values))\n",
        "sequences = tokenizer.texts_to_sequences(list(df_captions_test.caption.values))\n",
        "maxlen = 20\n",
        "embedding_test =pad_sequences(sequences,maxlen=maxlen)"
      ],
      "execution_count": 0,
      "outputs": []
    },
    {
      "cell_type": "markdown",
      "metadata": {
        "id": "LwuyTKVAVVA3",
        "colab_type": "text"
      },
      "source": [
        "Prediction"
      ]
    },
    {
      "cell_type": "code",
      "metadata": {
        "id": "z8cVkdSlVVA3",
        "colab_type": "code",
        "colab": {}
      },
      "source": [
        "embedding_pred_test = model_embedding.predict(embedding_test)"
      ],
      "execution_count": 0,
      "outputs": []
    },
    {
      "cell_type": "code",
      "metadata": {
        "id": "IG7O_M0BVVA5",
        "colab_type": "code",
        "outputId": "dbd4170b-e5ec-49dd-ac9c-118c4f591bef",
        "colab": {}
      },
      "source": [
        "embedding_pred_test"
      ],
      "execution_count": 0,
      "outputs": [
        {
          "output_type": "execute_result",
          "data": {
            "text/plain": [
              "array([[0.8736558 , 0.79107356],\n",
              "       [0.8932446 , 0.8140241 ],\n",
              "       [0.9220868 , 0.84843767],\n",
              "       ...,\n",
              "       [0.87421185, 0.79175836],\n",
              "       [0.8884185 , 0.8083354 ],\n",
              "       [0.9250671 , 0.85200626]], dtype=float32)"
            ]
          },
          "metadata": {
            "tags": []
          },
          "execution_count": 472
        }
      ]
    },
    {
      "cell_type": "markdown",
      "metadata": {
        "id": "eZZfzOeFVVA6",
        "colab_type": "text"
      },
      "source": [
        "## Ensembling the results using average method."
      ]
    },
    {
      "cell_type": "code",
      "metadata": {
        "id": "oXDeeS3VVVA8",
        "colab_type": "code",
        "colab": {}
      },
      "source": [
        "test_avg=(embedding_pred_test+cap_prediction+hmp_test_prediction+c3d_test_prediction)/4"
      ],
      "execution_count": 0,
      "outputs": []
    },
    {
      "cell_type": "code",
      "metadata": {
        "id": "hyechnBHVVA9",
        "colab_type": "code",
        "outputId": "12efa0eb-b559-449a-972d-1f5a46ecdb7e",
        "colab": {}
      },
      "source": [
        "test_avg"
      ],
      "execution_count": 0,
      "outputs": [
        {
          "output_type": "execute_result",
          "data": {
            "text/plain": [
              "array([[0.8472337 , 0.7696191 ],\n",
              "       [0.8475474 , 0.76903284],\n",
              "       [0.8887673 , 0.81387883],\n",
              "       ...,\n",
              "       [0.8733822 , 0.7963079 ],\n",
              "       [0.86896944, 0.7903076 ],\n",
              "       [0.899951  , 0.8258224 ]], dtype=float32)"
            ]
          },
          "metadata": {
            "tags": []
          },
          "execution_count": 479
        }
      ]
    },
    {
      "cell_type": "markdown",
      "metadata": {
        "id": "JOw7AToQVVA-",
        "colab_type": "text"
      },
      "source": [
        "# Import the groudn truth template to fill the long and short term score."
      ]
    },
    {
      "cell_type": "code",
      "metadata": {
        "id": "4Z0ju6MuVVA_",
        "colab_type": "code",
        "colab": {}
      },
      "source": [
        "test_result =pd.read_csv(\"C:/Users/Reddy/Desktop/ml ass/testset/ground_truth_template.csv\")\n"
      ],
      "execution_count": 0,
      "outputs": []
    },
    {
      "cell_type": "markdown",
      "metadata": {
        "id": "NpFokFzYVVBA",
        "colab_type": "text"
      },
      "source": [
        "Filling the values as per column name"
      ]
    },
    {
      "cell_type": "code",
      "metadata": {
        "id": "VgtqxminVVBA",
        "colab_type": "code",
        "outputId": "a624788f-c99e-4fd5-b9bc-851931d2ea76",
        "colab": {}
      },
      "source": [
        "test_result[\"short-term_memorability\"] = test_avg[:,0]\n",
        "test_result[\"long-term_memorability\"] = test_avg[:,1]\n",
        "test_result.head()"
      ],
      "execution_count": 0,
      "outputs": [
        {
          "output_type": "execute_result",
          "data": {
            "text/html": [
              "<div>\n",
              "<style scoped>\n",
              "    .dataframe tbody tr th:only-of-type {\n",
              "        vertical-align: middle;\n",
              "    }\n",
              "\n",
              "    .dataframe tbody tr th {\n",
              "        vertical-align: top;\n",
              "    }\n",
              "\n",
              "    .dataframe thead th {\n",
              "        text-align: right;\n",
              "    }\n",
              "</style>\n",
              "<table border=\"1\" class=\"dataframe\">\n",
              "  <thead>\n",
              "    <tr style=\"text-align: right;\">\n",
              "      <th></th>\n",
              "      <th>video</th>\n",
              "      <th>short-term_memorability</th>\n",
              "      <th>nb_short-term_annotations</th>\n",
              "      <th>long-term_memorability</th>\n",
              "      <th>nb_long-term_annotations</th>\n",
              "    </tr>\n",
              "  </thead>\n",
              "  <tbody>\n",
              "    <tr>\n",
              "      <td>0</td>\n",
              "      <td>7494</td>\n",
              "      <td>0.847234</td>\n",
              "      <td>33</td>\n",
              "      <td>0.769619</td>\n",
              "      <td>12</td>\n",
              "    </tr>\n",
              "    <tr>\n",
              "      <td>1</td>\n",
              "      <td>7495</td>\n",
              "      <td>0.847547</td>\n",
              "      <td>34</td>\n",
              "      <td>0.769033</td>\n",
              "      <td>10</td>\n",
              "    </tr>\n",
              "    <tr>\n",
              "      <td>2</td>\n",
              "      <td>7496</td>\n",
              "      <td>0.888767</td>\n",
              "      <td>32</td>\n",
              "      <td>0.813879</td>\n",
              "      <td>13</td>\n",
              "    </tr>\n",
              "    <tr>\n",
              "      <td>3</td>\n",
              "      <td>7497</td>\n",
              "      <td>0.870043</td>\n",
              "      <td>33</td>\n",
              "      <td>0.792834</td>\n",
              "      <td>10</td>\n",
              "    </tr>\n",
              "    <tr>\n",
              "      <td>4</td>\n",
              "      <td>7498</td>\n",
              "      <td>0.860509</td>\n",
              "      <td>33</td>\n",
              "      <td>0.785753</td>\n",
              "      <td>10</td>\n",
              "    </tr>\n",
              "  </tbody>\n",
              "</table>\n",
              "</div>"
            ],
            "text/plain": [
              "   video  short-term_memorability  nb_short-term_annotations  \\\n",
              "0   7494                 0.847234                         33   \n",
              "1   7495                 0.847547                         34   \n",
              "2   7496                 0.888767                         32   \n",
              "3   7497                 0.870043                         33   \n",
              "4   7498                 0.860509                         33   \n",
              "\n",
              "   long-term_memorability  nb_long-term_annotations  \n",
              "0                0.769619                        12  \n",
              "1                0.769033                        10  \n",
              "2                0.813879                        13  \n",
              "3                0.792834                        10  \n",
              "4                0.785753                        10  "
            ]
          },
          "metadata": {
            "tags": []
          },
          "execution_count": 489
        }
      ]
    },
    {
      "cell_type": "markdown",
      "metadata": {
        "id": "XzOJxWVZVVBC",
        "colab_type": "text"
      },
      "source": [
        "# Exporting the results."
      ]
    },
    {
      "cell_type": "code",
      "metadata": {
        "id": "6bazeTRPVVBC",
        "colab_type": "code",
        "colab": {}
      },
      "source": [
        "test_result.to_csv('./predictions1.csv')"
      ],
      "execution_count": 0,
      "outputs": []
    }
  ]
}